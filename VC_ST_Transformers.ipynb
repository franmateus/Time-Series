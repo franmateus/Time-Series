{
 "cells": [
  {
   "cell_type": "markdown",
   "id": "88a1247f-8aef-43cd-91d2-71ec770f7edf",
   "metadata": {},
   "source": [
    "## **SÉRIE TEMPORAL CNTR - VIAGEM DE CINEMA COM TRANSFORMER**"
   ]
  },
  {
   "cell_type": "code",
   "execution_count": 1,
   "id": "7470105a",
   "metadata": {},
   "outputs": [],
   "source": [
    "# Importando pacotes\n",
    "import torch\n",
    "import sklearn\n",
    "import numpy as np\n",
    "import pandas as pd\n",
    "from matplotlib import pyplot as plt\n",
    "from matplotlib.dates import DateFormatter\n",
    "\n",
    "import torch.nn as nn\n",
    "import torch.optim as optim\n",
    "from torch.utils.data import Dataset, DataLoader\n",
    "from sklearn.preprocessing import MinMaxScaler"
   ]
  },
  {
   "cell_type": "code",
   "execution_count": 2,
   "id": "c409ea12-7d91-4a9f-a437-c0c15ff83dd3",
   "metadata": {},
   "outputs": [
    {
     "data": {
      "text/html": [
       "<div>\n",
       "<style scoped>\n",
       "    .dataframe tbody tr th:only-of-type {\n",
       "        vertical-align: middle;\n",
       "    }\n",
       "\n",
       "    .dataframe tbody tr th {\n",
       "        vertical-align: top;\n",
       "    }\n",
       "\n",
       "    .dataframe thead th {\n",
       "        text-align: right;\n",
       "    }\n",
       "</style>\n",
       "<table border=\"1\" class=\"dataframe\">\n",
       "  <thead>\n",
       "    <tr style=\"text-align: right;\">\n",
       "      <th></th>\n",
       "      <th>Meses</th>\n",
       "      <th>#Acessos</th>\n",
       "    </tr>\n",
       "  </thead>\n",
       "  <tbody>\n",
       "    <tr>\n",
       "      <th>0</th>\n",
       "      <td>2010-06-01</td>\n",
       "      <td>33</td>\n",
       "    </tr>\n",
       "    <tr>\n",
       "      <th>1</th>\n",
       "      <td>2010-07-01</td>\n",
       "      <td>244</td>\n",
       "    </tr>\n",
       "    <tr>\n",
       "      <th>2</th>\n",
       "      <td>2010-08-01</td>\n",
       "      <td>166</td>\n",
       "    </tr>\n",
       "    <tr>\n",
       "      <th>3</th>\n",
       "      <td>2010-09-01</td>\n",
       "      <td>196</td>\n",
       "    </tr>\n",
       "    <tr>\n",
       "      <th>4</th>\n",
       "      <td>2010-10-01</td>\n",
       "      <td>347</td>\n",
       "    </tr>\n",
       "  </tbody>\n",
       "</table>\n",
       "</div>"
      ],
      "text/plain": [
       "        Meses  #Acessos\n",
       "0  2010-06-01        33\n",
       "1  2010-07-01       244\n",
       "2  2010-08-01       166\n",
       "3  2010-09-01       196\n",
       "4  2010-10-01       347"
      ]
     },
     "execution_count": 2,
     "metadata": {},
     "output_type": "execute_result"
    }
   ],
   "source": [
    "dados_originais = pd.read_csv('dados/VC-ST_mes.csv', sep=';')\n",
    "dados_originais.head()"
   ]
  },
  {
   "cell_type": "code",
   "execution_count": 3,
   "id": "dcebadb8-468e-4551-9f93-02fa77604257",
   "metadata": {},
   "outputs": [
    {
     "data": {
      "text/html": [
       "<div>\n",
       "<style scoped>\n",
       "    .dataframe tbody tr th:only-of-type {\n",
       "        vertical-align: middle;\n",
       "    }\n",
       "\n",
       "    .dataframe tbody tr th {\n",
       "        vertical-align: top;\n",
       "    }\n",
       "\n",
       "    .dataframe thead th {\n",
       "        text-align: right;\n",
       "    }\n",
       "</style>\n",
       "<table border=\"1\" class=\"dataframe\">\n",
       "  <thead>\n",
       "    <tr style=\"text-align: right;\">\n",
       "      <th></th>\n",
       "      <th>#Acessos</th>\n",
       "    </tr>\n",
       "    <tr>\n",
       "      <th>Meses</th>\n",
       "      <th></th>\n",
       "    </tr>\n",
       "  </thead>\n",
       "  <tbody>\n",
       "    <tr>\n",
       "      <th>2010-06-01</th>\n",
       "      <td>33</td>\n",
       "    </tr>\n",
       "    <tr>\n",
       "      <th>2010-07-01</th>\n",
       "      <td>244</td>\n",
       "    </tr>\n",
       "    <tr>\n",
       "      <th>2010-08-01</th>\n",
       "      <td>166</td>\n",
       "    </tr>\n",
       "    <tr>\n",
       "      <th>2010-09-01</th>\n",
       "      <td>196</td>\n",
       "    </tr>\n",
       "    <tr>\n",
       "      <th>2010-10-01</th>\n",
       "      <td>347</td>\n",
       "    </tr>\n",
       "  </tbody>\n",
       "</table>\n",
       "</div>"
      ],
      "text/plain": [
       "            #Acessos\n",
       "Meses               \n",
       "2010-06-01        33\n",
       "2010-07-01       244\n",
       "2010-08-01       166\n",
       "2010-09-01       196\n",
       "2010-10-01       347"
      ]
     },
     "execution_count": 3,
     "metadata": {},
     "output_type": "execute_result"
    }
   ],
   "source": [
    "dados_originais[\"Meses\"] = pd.to_datetime(dados_originais[\"Meses\"], format=\"%Y-%m-%d\")\n",
    "dados_originais.set_index(\"Meses\", inplace = True)\n",
    "dados_originais.head()"
   ]
  },
  {
   "cell_type": "code",
   "execution_count": 4,
   "id": "1420aaf6-5dfb-4f69-8efb-53e98cd03a06",
   "metadata": {},
   "outputs": [
    {
     "data": {
      "text/html": [
       "<div>\n",
       "<style scoped>\n",
       "    .dataframe tbody tr th:only-of-type {\n",
       "        vertical-align: middle;\n",
       "    }\n",
       "\n",
       "    .dataframe tbody tr th {\n",
       "        vertical-align: top;\n",
       "    }\n",
       "\n",
       "    .dataframe thead th {\n",
       "        text-align: right;\n",
       "    }\n",
       "</style>\n",
       "<table border=\"1\" class=\"dataframe\">\n",
       "  <thead>\n",
       "    <tr style=\"text-align: right;\">\n",
       "      <th></th>\n",
       "      <th>#Acessos</th>\n",
       "    </tr>\n",
       "    <tr>\n",
       "      <th>Meses</th>\n",
       "      <th></th>\n",
       "    </tr>\n",
       "  </thead>\n",
       "  <tbody>\n",
       "    <tr>\n",
       "      <th>2022-10-01</th>\n",
       "      <td>5825</td>\n",
       "    </tr>\n",
       "    <tr>\n",
       "      <th>2022-11-01</th>\n",
       "      <td>7269</td>\n",
       "    </tr>\n",
       "    <tr>\n",
       "      <th>2022-12-01</th>\n",
       "      <td>5065</td>\n",
       "    </tr>\n",
       "    <tr>\n",
       "      <th>2023-01-01</th>\n",
       "      <td>5106</td>\n",
       "    </tr>\n",
       "    <tr>\n",
       "      <th>2023-02-01</th>\n",
       "      <td>6601</td>\n",
       "    </tr>\n",
       "  </tbody>\n",
       "</table>\n",
       "</div>"
      ],
      "text/plain": [
       "            #Acessos\n",
       "Meses               \n",
       "2022-10-01      5825\n",
       "2022-11-01      7269\n",
       "2022-12-01      5065\n",
       "2023-01-01      5106\n",
       "2023-02-01      6601"
      ]
     },
     "execution_count": 4,
     "metadata": {},
     "output_type": "execute_result"
    }
   ],
   "source": [
    "trn = dados_originais.loc[dados_originais.index < '2022-03-01']\n",
    "tst = dados_originais.loc[dados_originais.index >= '2022-03-01']\n",
    "tst.tail()"
   ]
  },
  {
   "cell_type": "code",
   "execution_count": 5,
   "id": "06b8c8c9",
   "metadata": {},
   "outputs": [
    {
     "data": {
      "text/html": [
       "<div>\n",
       "<style scoped>\n",
       "    .dataframe tbody tr th:only-of-type {\n",
       "        vertical-align: middle;\n",
       "    }\n",
       "\n",
       "    .dataframe tbody tr th {\n",
       "        vertical-align: top;\n",
       "    }\n",
       "\n",
       "    .dataframe thead th {\n",
       "        text-align: right;\n",
       "    }\n",
       "</style>\n",
       "<table border=\"1\" class=\"dataframe\">\n",
       "  <thead>\n",
       "    <tr style=\"text-align: right;\">\n",
       "      <th></th>\n",
       "      <th>#Acessos</th>\n",
       "    </tr>\n",
       "  </thead>\n",
       "  <tbody>\n",
       "    <tr>\n",
       "      <th>0</th>\n",
       "      <td>33</td>\n",
       "    </tr>\n",
       "    <tr>\n",
       "      <th>1</th>\n",
       "      <td>244</td>\n",
       "    </tr>\n",
       "    <tr>\n",
       "      <th>2</th>\n",
       "      <td>166</td>\n",
       "    </tr>\n",
       "    <tr>\n",
       "      <th>3</th>\n",
       "      <td>196</td>\n",
       "    </tr>\n",
       "    <tr>\n",
       "      <th>4</th>\n",
       "      <td>347</td>\n",
       "    </tr>\n",
       "  </tbody>\n",
       "</table>\n",
       "</div>"
      ],
      "text/plain": [
       "   #Acessos\n",
       "0        33\n",
       "1       244\n",
       "2       166\n",
       "3       196\n",
       "4       347"
      ]
     },
     "execution_count": 5,
     "metadata": {},
     "output_type": "execute_result"
    }
   ],
   "source": [
    "# Dica: Uma vez que a coluna a ser analisada (acessos) está ordenada, não é necessário usar a coluna de data\n",
    "arquivo = \"dados/VC-ST_mes.csv\"\n",
    "df = pd.read_csv(arquivo, sep= \";\", usecols = [1], engine = 'python')\n",
    "df.head()"
   ]
  },
  {
   "cell_type": "code",
   "execution_count": 6,
   "id": "b8fa855f-e377-41a7-8223-a8d334f3d0ac",
   "metadata": {},
   "outputs": [
    {
     "data": {
      "text/html": [
       "<div>\n",
       "<style scoped>\n",
       "    .dataframe tbody tr th:only-of-type {\n",
       "        vertical-align: middle;\n",
       "    }\n",
       "\n",
       "    .dataframe tbody tr th {\n",
       "        vertical-align: top;\n",
       "    }\n",
       "\n",
       "    .dataframe thead th {\n",
       "        text-align: right;\n",
       "    }\n",
       "</style>\n",
       "<table border=\"1\" class=\"dataframe\">\n",
       "  <thead>\n",
       "    <tr style=\"text-align: right;\">\n",
       "      <th></th>\n",
       "      <th>#Acessos</th>\n",
       "    </tr>\n",
       "  </thead>\n",
       "  <tbody>\n",
       "    <tr>\n",
       "      <th>count</th>\n",
       "      <td>153.000000</td>\n",
       "    </tr>\n",
       "    <tr>\n",
       "      <th>mean</th>\n",
       "      <td>7183.326797</td>\n",
       "    </tr>\n",
       "    <tr>\n",
       "      <th>std</th>\n",
       "      <td>5994.375078</td>\n",
       "    </tr>\n",
       "    <tr>\n",
       "      <th>min</th>\n",
       "      <td>33.000000</td>\n",
       "    </tr>\n",
       "    <tr>\n",
       "      <th>25%</th>\n",
       "      <td>3818.000000</td>\n",
       "    </tr>\n",
       "    <tr>\n",
       "      <th>50%</th>\n",
       "      <td>5457.000000</td>\n",
       "    </tr>\n",
       "    <tr>\n",
       "      <th>75%</th>\n",
       "      <td>7941.000000</td>\n",
       "    </tr>\n",
       "    <tr>\n",
       "      <th>max</th>\n",
       "      <td>38726.000000</td>\n",
       "    </tr>\n",
       "  </tbody>\n",
       "</table>\n",
       "</div>"
      ],
      "text/plain": [
       "           #Acessos\n",
       "count    153.000000\n",
       "mean    7183.326797\n",
       "std     5994.375078\n",
       "min       33.000000\n",
       "25%     3818.000000\n",
       "50%     5457.000000\n",
       "75%     7941.000000\n",
       "max    38726.000000"
      ]
     },
     "execution_count": 6,
     "metadata": {},
     "output_type": "execute_result"
    }
   ],
   "source": [
    "df.describe()"
   ]
  },
  {
   "cell_type": "code",
   "execution_count": 7,
   "id": "7846205a",
   "metadata": {},
   "outputs": [
    {
     "data": {
      "text/plain": [
       "<AxesSubplot:>"
      ]
     },
     "execution_count": 7,
     "metadata": {},
     "output_type": "execute_result"
    },
    {
     "data": {
      "image/png": "[encoded data removed]",
      "text/plain": [
       "<Figure size 640x480 with 1 Axes>"
      ]
     },
     "metadata": {},
     "output_type": "display_data"
    }
   ],
   "source": [
    "# Plot\n",
    "df.plot()"
   ]
  },
  {
   "cell_type": "code",
   "execution_count": 8,
   "id": "7086ab26",
   "metadata": {},
   "outputs": [],
   "source": [
    "# Converte os dados para float32 a fim de melhorar a precisão dos cálculos\n",
    "dataset = df.values.astype('float32')"
   ]
  },
  {
   "cell_type": "code",
   "execution_count": 9,
   "id": "318b8bd8",
   "metadata": {},
   "outputs": [
    {
     "data": {
      "text/plain": [
       "array([[ 33.],\n",
       "       [244.],\n",
       "       [166.],\n",
       "       [196.]], dtype=float32)"
      ]
     },
     "execution_count": 9,
     "metadata": {},
     "output_type": "execute_result"
    }
   ],
   "source": [
    "# Amostra dos dados\n",
    "dataset[0:4]"
   ]
  },
  {
   "cell_type": "markdown",
   "id": "f173cc46",
   "metadata": {},
   "source": [
    "### Pré-Processamento"
   ]
  },
  {
   "cell_type": "code",
   "execution_count": 10,
   "id": "eeb0a0e4",
   "metadata": {},
   "outputs": [],
   "source": [
    "# Colocando os dados na mesma escala (entre 0 e 1)\n",
    "scaler = MinMaxScaler(feature_range = (0, 1))"
   ]
  },
  {
   "cell_type": "code",
   "execution_count": 11,
   "id": "bbf09eda",
   "metadata": {},
   "outputs": [],
   "source": [
    "# Fit e transform nos dados padronizados\n",
    "dataset = scaler.fit_transform(dataset)"
   ]
  },
  {
   "cell_type": "code",
   "execution_count": 12,
   "id": "6b6fedb6",
   "metadata": {},
   "outputs": [
    {
     "data": {
      "text/plain": [
       "153"
      ]
     },
     "execution_count": 12,
     "metadata": {},
     "output_type": "execute_result"
    }
   ],
   "source": [
    "len(dataset)"
   ]
  },
  {
   "cell_type": "code",
   "execution_count": 13,
   "id": "99837515",
   "metadata": {},
   "outputs": [],
   "source": [
    "# Divide os dados em amostras de treino e teste seguindo a ordem dos dados no conjunto de dados\n",
    "# Proporções adequadas a uma janela de 12 meses\n",
    "tamanho_treino = int(len(dataset) * 0.67)\n",
    "test_size = len(dataset) - tamanho_treino\n",
    "dados_treino, dados_teste = dataset[0:tamanho_treino], dataset[tamanho_treino:]"
   ]
  },
  {
   "cell_type": "code",
   "execution_count": 14,
   "id": "cd7d70a7",
   "metadata": {},
   "outputs": [
    {
     "data": {
      "text/plain": [
       "102"
      ]
     },
     "execution_count": 14,
     "metadata": {},
     "output_type": "execute_result"
    }
   ],
   "source": [
    "len(dados_treino)"
   ]
  },
  {
   "cell_type": "code",
   "execution_count": 15,
   "id": "b3fa6e4e",
   "metadata": {},
   "outputs": [
    {
     "data": {
      "text/plain": [
       "51"
      ]
     },
     "execution_count": 15,
     "metadata": {},
     "output_type": "execute_result"
    }
   ],
   "source": [
    "len(dados_teste)"
   ]
  },
  {
   "cell_type": "code",
   "execution_count": 16,
   "id": "e8f0f21b",
   "metadata": {},
   "outputs": [],
   "source": [
    "# Função para criar os datasets de treino e teste\n",
    "def create_dataset(data, window_size):\n",
    "    \n",
    "    # Listas de X (entrada) e Y (saída)\n",
    "    X, Y = [], []\n",
    "    \n",
    "    # Loop para criar X (11 elementos de input) e Y (1 elemento de label)\n",
    "    for i in range(len(data) - window_size - 1):\n",
    "        a = data[i:(i + window_size), 0]\n",
    "        X.append(a)\n",
    "        Y.append(data[i + window_size, 0])\n",
    "    \n",
    "    return np.array(X), np.array(Y)"
   ]
  },
  {
   "cell_type": "code",
   "execution_count": 17,
   "id": "92df7725",
   "metadata": {},
   "outputs": [],
   "source": [
    "# Tamanho da janela\n",
    "window_size = 12"
   ]
  },
  {
   "cell_type": "code",
   "execution_count": 18,
   "id": "d633719c",
   "metadata": {},
   "outputs": [],
   "source": [
    "# Cria os datasets de treino e teste\n",
    "X_treino, Y_treino = create_dataset(dados_treino, window_size)\n",
    "X_teste, Y_teste = create_dataset(dados_teste, window_size)"
   ]
  },
  {
   "cell_type": "code",
   "execution_count": 19,
   "id": "2e773564",
   "metadata": {},
   "outputs": [
    {
     "data": {
      "text/plain": [
       "array([[0.        , 0.00545318, 0.00343731, ..., 0.1022924 , 0.05874448,\n",
       "        0.07006435],\n",
       "       [0.00545318, 0.00343731, 0.00421265, ..., 0.05874448, 0.07006435,\n",
       "        0.09988887],\n",
       "       [0.00343731, 0.00421265, 0.00811516, ..., 0.07006435, 0.09988887,\n",
       "        0.0653865 ],\n",
       "       ...,\n",
       "       [0.18078206, 0.1401804 , 0.16077843, ..., 0.17295119, 0.16524953,\n",
       "        0.17357145],\n",
       "       [0.1401804 , 0.16077843, 0.11206162, ..., 0.16524953, 0.17357145,\n",
       "        0.10924457],\n",
       "       [0.16077843, 0.11206162, 0.1163518 , ..., 0.17357145, 0.10924457,\n",
       "        0.14248055]], dtype=float32)"
      ]
     },
     "execution_count": 19,
     "metadata": {},
     "output_type": "execute_result"
    }
   ],
   "source": [
    "X_treino"
   ]
  },
  {
   "cell_type": "code",
   "execution_count": 20,
   "id": "ce408e31",
   "metadata": {},
   "outputs": [
    {
     "data": {
      "text/plain": [
       "array([0.09988887, 0.0653865 , 0.07422531, 0.06990929, 0.09782132,\n",
       "       0.07280387, 0.05696121, 0.08399452, 0.19068049, 0.15230146,\n",
       "       0.14304914, 0.11301786, 0.09092084, 0.09859665, 0.10950302,\n",
       "       0.11898793, 0.15659164, 0.1602357 , 0.49117413, 0.37210867,\n",
       "       0.36528572, 0.42095473, 0.46770737, 0.56617475, 0.38784796,\n",
       "       0.15597136, 0.374383  , 0.34592822, 0.19406612, 0.23769158,\n",
       "       0.17706046, 0.13976689, 0.16930711, 0.14245471, 0.19685732,\n",
       "       0.24027602, 0.13085054, 0.14635722, 0.24981265, 0.16574058,\n",
       "       0.13320239, 0.11748896, 0.1544207 , 0.12048692, 0.13862973,\n",
       "       0.11836766, 0.12059029, 0.11578322, 0.12133978, 0.12534568,\n",
       "       0.11800584, 0.11410333, 0.1100199 , 0.35564575, 0.4553537 ,\n",
       "       0.40330294, 0.39278424, 0.35047686, 0.37239295, 0.37748432,\n",
       "       0.398806  , 0.35045102, 1.0000001 , 0.8959502 , 0.42839792,\n",
       "       0.7897811 , 0.52203244, 0.32545942, 0.3359264 , 0.3381232 ,\n",
       "       0.5038121 , 0.2217197 , 0.17186572, 0.17519966, 0.18078206,\n",
       "       0.1401804 , 0.16077843, 0.11206162, 0.1163518 , 0.17152974,\n",
       "       0.16183807, 0.09970796, 0.10547128, 0.17295119, 0.16524953,\n",
       "       0.17357145, 0.10924457, 0.14248055, 0.11661024], dtype=float32)"
      ]
     },
     "execution_count": 20,
     "metadata": {},
     "output_type": "execute_result"
    }
   ],
   "source": [
    "Y_treino"
   ]
  },
  {
   "cell_type": "code",
   "execution_count": 21,
   "id": "84157212",
   "metadata": {},
   "outputs": [],
   "source": [
    "# Converte tudo de array NumPy para tensor PyTorch\n",
    "X_treino = torch.from_numpy(X_treino).float()\n",
    "Y_treino = torch.from_numpy(Y_treino).float()\n",
    "X_teste = torch.from_numpy(X_teste).float()\n",
    "Y_teste = torch.from_numpy(Y_teste).float()"
   ]
  },
  {
   "cell_type": "code",
   "execution_count": 22,
   "id": "27671523-718e-4fd9-a2ab-26de042cba71",
   "metadata": {},
   "outputs": [
    {
     "data": {
      "text/plain": [
       "tensor([[0.0000, 0.0055, 0.0034,  ..., 0.1023, 0.0587, 0.0701],\n",
       "        [0.0055, 0.0034, 0.0042,  ..., 0.0587, 0.0701, 0.0999],\n",
       "        [0.0034, 0.0042, 0.0081,  ..., 0.0701, 0.0999, 0.0654],\n",
       "        ...,\n",
       "        [0.1808, 0.1402, 0.1608,  ..., 0.1730, 0.1652, 0.1736],\n",
       "        [0.1402, 0.1608, 0.1121,  ..., 0.1652, 0.1736, 0.1092],\n",
       "        [0.1608, 0.1121, 0.1164,  ..., 0.1736, 0.1092, 0.1425]])"
      ]
     },
     "execution_count": 22,
     "metadata": {},
     "output_type": "execute_result"
    }
   ],
   "source": [
    "X_treino"
   ]
  },
  {
   "cell_type": "code",
   "execution_count": 23,
   "id": "2a72c410-d5be-4614-b281-d79919a67dca",
   "metadata": {},
   "outputs": [
    {
     "data": {
      "text/plain": [
       "tensor([0.0999, 0.0654, 0.0742, 0.0699, 0.0978, 0.0728, 0.0570, 0.0840, 0.1907,\n",
       "        0.1523, 0.1430, 0.1130, 0.0909, 0.0986, 0.1095, 0.1190, 0.1566, 0.1602,\n",
       "        0.4912, 0.3721, 0.3653, 0.4210, 0.4677, 0.5662, 0.3878, 0.1560, 0.3744,\n",
       "        0.3459, 0.1941, 0.2377, 0.1771, 0.1398, 0.1693, 0.1425, 0.1969, 0.2403,\n",
       "        0.1309, 0.1464, 0.2498, 0.1657, 0.1332, 0.1175, 0.1544, 0.1205, 0.1386,\n",
       "        0.1184, 0.1206, 0.1158, 0.1213, 0.1253, 0.1180, 0.1141, 0.1100, 0.3556,\n",
       "        0.4554, 0.4033, 0.3928, 0.3505, 0.3724, 0.3775, 0.3988, 0.3505, 1.0000,\n",
       "        0.8960, 0.4284, 0.7898, 0.5220, 0.3255, 0.3359, 0.3381, 0.5038, 0.2217,\n",
       "        0.1719, 0.1752, 0.1808, 0.1402, 0.1608, 0.1121, 0.1164, 0.1715, 0.1618,\n",
       "        0.0997, 0.1055, 0.1730, 0.1652, 0.1736, 0.1092, 0.1425, 0.1166])"
      ]
     },
     "execution_count": 23,
     "metadata": {},
     "output_type": "execute_result"
    }
   ],
   "source": [
    "Y_treino"
   ]
  },
  {
   "cell_type": "code",
   "execution_count": 24,
   "id": "9cdfd640-c7e1-4c34-925e-6cda5c12faae",
   "metadata": {},
   "outputs": [
    {
     "data": {
      "text/plain": [
       "tensor([[0.2342, 0.2138, 0.2459, 0.1753, 0.2401, 0.3019, 0.2306, 0.2233, 0.2037,\n",
       "         0.1797, 0.1724, 0.1742],\n",
       "        [0.2138, 0.2459, 0.1753, 0.2401, 0.3019, 0.2306, 0.2233, 0.2037, 0.1797,\n",
       "         0.1724, 0.1742, 0.2044],\n",
       "        [0.2459, 0.1753, 0.2401, 0.3019, 0.2306, 0.2233, 0.2037, 0.1797, 0.1724,\n",
       "         0.1742, 0.2044, 0.1783],\n",
       "        [0.1753, 0.2401, 0.3019, 0.2306, 0.2233, 0.2037, 0.1797, 0.1724, 0.1742,\n",
       "         0.2044, 0.1783, 0.1414],\n",
       "        [0.2401, 0.3019, 0.2306, 0.2233, 0.2037, 0.1797, 0.1724, 0.1742, 0.2044,\n",
       "         0.1783, 0.1414, 0.1447],\n",
       "        [0.3019, 0.2306, 0.2233, 0.2037, 0.1797, 0.1724, 0.1742, 0.2044, 0.1783,\n",
       "         0.1414, 0.1447, 0.1178],\n",
       "        [0.2306, 0.2233, 0.2037, 0.1797, 0.1724, 0.1742, 0.2044, 0.1783, 0.1414,\n",
       "         0.1447, 0.1178, 0.0844],\n",
       "        [0.2233, 0.2037, 0.1797, 0.1724, 0.1742, 0.2044, 0.1783, 0.1414, 0.1447,\n",
       "         0.1178, 0.0844, 0.0644],\n",
       "        [0.2037, 0.1797, 0.1724, 0.1742, 0.2044, 0.1783, 0.1414, 0.1447, 0.1178,\n",
       "         0.0844, 0.0644, 0.0798],\n",
       "        [0.1797, 0.1724, 0.1742, 0.2044, 0.1783, 0.1414, 0.1447, 0.1178, 0.0844,\n",
       "         0.0644, 0.0798, 0.0936],\n",
       "        [0.1724, 0.1742, 0.2044, 0.1783, 0.1414, 0.1447, 0.1178, 0.0844, 0.0644,\n",
       "         0.0798, 0.0936, 0.0750],\n",
       "        [0.1742, 0.2044, 0.1783, 0.1414, 0.1447, 0.1178, 0.0844, 0.0644, 0.0798,\n",
       "         0.0936, 0.0750, 0.0839],\n",
       "        [0.2044, 0.1783, 0.1414, 0.1447, 0.1178, 0.0844, 0.0644, 0.0798, 0.0936,\n",
       "         0.0750, 0.0839, 0.1193],\n",
       "        [0.1783, 0.1414, 0.1447, 0.1178, 0.0844, 0.0644, 0.0798, 0.0936, 0.0750,\n",
       "         0.0839, 0.1193, 0.1421],\n",
       "        [0.1414, 0.1447, 0.1178, 0.0844, 0.0644, 0.0798, 0.0936, 0.0750, 0.0839,\n",
       "         0.1193, 0.1421, 0.1175],\n",
       "        [0.1447, 0.1178, 0.0844, 0.0644, 0.0798, 0.0936, 0.0750, 0.0839, 0.1193,\n",
       "         0.1421, 0.1175, 0.1414],\n",
       "        [0.1178, 0.0844, 0.0644, 0.0798, 0.0936, 0.0750, 0.0839, 0.1193, 0.1421,\n",
       "         0.1175, 0.1414, 0.0713],\n",
       "        [0.0844, 0.0644, 0.0798, 0.0936, 0.0750, 0.0839, 0.1193, 0.1421, 0.1175,\n",
       "         0.1414, 0.0713, 0.1075],\n",
       "        [0.0644, 0.0798, 0.0936, 0.0750, 0.0839, 0.1193, 0.1421, 0.1175, 0.1414,\n",
       "         0.0713, 0.1075, 0.0871],\n",
       "        [0.0798, 0.0936, 0.0750, 0.0839, 0.1193, 0.1421, 0.1175, 0.1414, 0.0713,\n",
       "         0.1075, 0.0871, 0.0870],\n",
       "        [0.0936, 0.0750, 0.0839, 0.1193, 0.1421, 0.1175, 0.1414, 0.0713, 0.1075,\n",
       "         0.0871, 0.0870, 0.0656],\n",
       "        [0.0750, 0.0839, 0.1193, 0.1421, 0.1175, 0.1414, 0.0713, 0.1075, 0.0871,\n",
       "         0.0870, 0.0656, 0.0563],\n",
       "        [0.0839, 0.1193, 0.1421, 0.1175, 0.1414, 0.0713, 0.1075, 0.0871, 0.0870,\n",
       "         0.0656, 0.0563, 0.0847],\n",
       "        [0.1193, 0.1421, 0.1175, 0.1414, 0.0713, 0.1075, 0.0871, 0.0870, 0.0656,\n",
       "         0.0563, 0.0847, 0.0867],\n",
       "        [0.1421, 0.1175, 0.1414, 0.0713, 0.1075, 0.0871, 0.0870, 0.0656, 0.0563,\n",
       "         0.0847, 0.0867, 0.0645],\n",
       "        [0.1175, 0.1414, 0.0713, 0.1075, 0.0871, 0.0870, 0.0656, 0.0563, 0.0847,\n",
       "         0.0867, 0.0645, 0.1095],\n",
       "        [0.1414, 0.0713, 0.1075, 0.0871, 0.0870, 0.0656, 0.0563, 0.0847, 0.0867,\n",
       "         0.0645, 0.1095, 0.0733],\n",
       "        [0.0713, 0.1075, 0.0871, 0.0870, 0.0656, 0.0563, 0.0847, 0.0867, 0.0645,\n",
       "         0.1095, 0.0733, 0.0622],\n",
       "        [0.1075, 0.0871, 0.0870, 0.0656, 0.0563, 0.0847, 0.0867, 0.0645, 0.1095,\n",
       "         0.0733, 0.0622, 0.0724],\n",
       "        [0.0871, 0.0870, 0.0656, 0.0563, 0.0847, 0.0867, 0.0645, 0.1095, 0.0733,\n",
       "         0.0622, 0.0724, 0.0738],\n",
       "        [0.0870, 0.0656, 0.0563, 0.0847, 0.0867, 0.0645, 0.1095, 0.0733, 0.0622,\n",
       "         0.0724, 0.0738, 0.0875],\n",
       "        [0.0656, 0.0563, 0.0847, 0.0867, 0.0645, 0.1095, 0.0733, 0.0622, 0.0724,\n",
       "         0.0738, 0.0875, 0.0711],\n",
       "        [0.0563, 0.0847, 0.0867, 0.0645, 0.1095, 0.0733, 0.0622, 0.0724, 0.0738,\n",
       "         0.0875, 0.0711, 0.0730],\n",
       "        [0.0847, 0.0867, 0.0645, 0.1095, 0.0733, 0.0622, 0.0724, 0.0738, 0.0875,\n",
       "         0.0711, 0.0730, 0.1185],\n",
       "        [0.0867, 0.0645, 0.1095, 0.0733, 0.0622, 0.0724, 0.0738, 0.0875, 0.0711,\n",
       "         0.0730, 0.1185, 0.1337],\n",
       "        [0.0645, 0.1095, 0.0733, 0.0622, 0.0724, 0.0738, 0.0875, 0.0711, 0.0730,\n",
       "         0.1185, 0.1337, 0.1497],\n",
       "        [0.1095, 0.0733, 0.0622, 0.0724, 0.0738, 0.0875, 0.0711, 0.0730, 0.1185,\n",
       "         0.1337, 0.1497, 0.1870],\n",
       "        [0.0733, 0.0622, 0.0724, 0.0738, 0.0875, 0.0711, 0.0730, 0.1185, 0.1337,\n",
       "         0.1497, 0.1870, 0.1300]])"
      ]
     },
     "execution_count": 24,
     "metadata": {},
     "output_type": "execute_result"
    }
   ],
   "source": [
    "X_teste"
   ]
  },
  {
   "cell_type": "code",
   "execution_count": 25,
   "id": "7d313bc0-28ca-46ec-ac49-6d00414bdc16",
   "metadata": {},
   "outputs": [
    {
     "data": {
      "text/plain": [
       "tensor([0.2044, 0.1783, 0.1414, 0.1447, 0.1178, 0.0844, 0.0644, 0.0798, 0.0936,\n",
       "        0.0750, 0.0839, 0.1193, 0.1421, 0.1175, 0.1414, 0.0713, 0.1075, 0.0871,\n",
       "        0.0870, 0.0656, 0.0563, 0.0847, 0.0867, 0.0645, 0.1095, 0.0733, 0.0622,\n",
       "        0.0724, 0.0738, 0.0875, 0.0711, 0.0730, 0.1185, 0.1337, 0.1497, 0.1870,\n",
       "        0.1300, 0.1311])"
      ]
     },
     "execution_count": 25,
     "metadata": {},
     "output_type": "execute_result"
    }
   ],
   "source": [
    "Y_teste"
   ]
  },
  {
   "cell_type": "markdown",
   "id": "cebe30e7",
   "metadata": {},
   "source": [
    "### Construção de data loaders"
   ]
  },
  {
   "cell_type": "code",
   "execution_count": 26,
   "id": "88ae33b0",
   "metadata": {},
   "outputs": [],
   "source": [
    "# Classe para criação do dataset da série temporal (para organizar os dados)\n",
    "class TimeSeriesDataset(Dataset):\n",
    "    \n",
    "    def __init__(self, X, Y):\n",
    "        self.X = X\n",
    "        self.Y = Y\n",
    "\n",
    "    def __len__(self):\n",
    "        return len(self.X)\n",
    "\n",
    "    def __getitem__(self, idx):\n",
    "        return self.X[idx], self.Y[idx]"
   ]
  },
  {
   "cell_type": "code",
   "execution_count": 27,
   "id": "a4888967",
   "metadata": {},
   "outputs": [],
   "source": [
    "# Cria os TimeSeriesDatasets\n",
    "train_dataset = TimeSeriesDataset(X_treino, Y_treino)\n",
    "test_dataset = TimeSeriesDataset(X_teste, Y_teste)"
   ]
  },
  {
   "cell_type": "code",
   "execution_count": 28,
   "id": "42e24dc3",
   "metadata": {},
   "outputs": [],
   "source": [
    "# Cria os dataloaders\n",
    "train_loader = DataLoader(train_dataset, batch_size = 1, shuffle = False)\n",
    "test_loader = DataLoader(test_dataset, batch_size = 1, shuffle = False)"
   ]
  },
  {
   "cell_type": "markdown",
   "id": "0d08ed96",
   "metadata": {},
   "source": [
    "### Modelo Transformer"
   ]
  },
  {
   "cell_type": "code",
   "execution_count": 29,
   "id": "a3341bb3",
   "metadata": {},
   "outputs": [],
   "source": [
    "# ARQUITETURA DO MODELO\n",
    "# Cria a classe do modelo\n",
    "class TimeSeriesTransformer(nn.Module):\n",
    "    \n",
    "    # Método construtor (inicializa os elementos)\n",
    "    def __init__(self, input_dim, model_dim, num_heads, num_layers, dropout = 0.1):\n",
    "        \n",
    "        super().__init__()\n",
    "        \n",
    "        self.embedding = nn.Linear(input_dim, model_dim)\n",
    "        \n",
    "        self.encoder_layer = nn.TransformerEncoderLayer(d_model = model_dim, nhead = num_heads, dropout = dropout)\n",
    "        \n",
    "        self.transformer_encoder = nn.TransformerEncoder(self.encoder_layer, num_layers = num_layers)\n",
    "        \n",
    "        self.linear = nn.Linear(model_dim, 1)\n",
    "\n",
    "    # Método forward (executa para fazer a previsão pelo modelo)\n",
    "    def forward(self, x):\n",
    "        \n",
    "        x = self.embedding(x)\n",
    "        \n",
    "        x = x.permute(1, 0, 2)  \n",
    "        \n",
    "        x = self.transformer_encoder(x)\n",
    "        \n",
    "        x = self.linear(x)\n",
    "        \n",
    "        x = x.permute(1, 0, 2)\n",
    "        \n",
    "        return x[:, -1, :]"
   ]
  },
  {
   "cell_type": "markdown",
   "id": "b296d7f2",
   "metadata": {},
   "source": [
    "### Hiperparâmetros, função de erro e otimizador"
   ]
  },
  {
   "cell_type": "code",
   "execution_count": 30,
   "id": "0954856e",
   "metadata": {},
   "outputs": [],
   "source": [
    "# Hiperparâmetros (input_dim = 1 porque só temos 1 variável) \n",
    "# Nos demais casos, os hiperparâmentros precisam ser encontrados e/ou alterados.\n",
    "input_dim = 1\n",
    "model_dim = 64\n",
    "num_heads = 4\n",
    "num_layers = 2\n",
    "taxa_aprendizado = 0.001"
   ]
  },
  {
   "cell_type": "code",
   "execution_count": 31,
   "id": "03379441",
   "metadata": {},
   "outputs": [],
   "source": [
    "# Cria o modelo\n",
    "# Nesta etapa, executa as tarefas descritas em Método Construtor da classe acima\n",
    "model = TimeSeriesTransformer(input_dim, model_dim, num_heads, num_layers)"
   ]
  },
  {
   "cell_type": "code",
   "execution_count": 32,
   "id": "4d4914b2",
   "metadata": {},
   "outputs": [],
   "source": [
    "# Função de perda (Mean Squared Error)\n",
    "criterion = nn.MSELoss()"
   ]
  },
  {
   "cell_type": "code",
   "execution_count": 33,
   "id": "fb8fc7a6",
   "metadata": {},
   "outputs": [],
   "source": [
    "# Otimizador (Existem vários);\n",
    "# O Adaptive Moment Estimation (Adam) apresenta um bom resultado em muitos casos.\n",
    "optimizer = optim.Adam(model.parameters(), lr = taxa_aprendizado)"
   ]
  },
  {
   "cell_type": "markdown",
   "id": "8215f0fe",
   "metadata": {},
   "source": [
    "### Treino"
   ]
  },
  {
   "cell_type": "code",
   "execution_count": 34,
   "id": "dc7b1da5",
   "metadata": {},
   "outputs": [
    {
     "name": "stdout",
     "output_type": "stream",
     "text": [
      "Epoch 1/80, Erro: 0.12660833432744184\n",
      "Epoch 2/80, Erro: 0.03549122891042592\n",
      "Epoch 3/80, Erro: 0.045613963023079324\n",
      "Epoch 4/80, Erro: 0.03483032312243339\n",
      "Epoch 5/80, Erro: 0.037017650459705016\n",
      "Epoch 6/80, Erro: 0.036980321956416755\n",
      "Epoch 7/80, Erro: 0.028358811825624247\n",
      "Epoch 8/80, Erro: 0.03821583160729028\n",
      "Epoch 9/80, Erro: 0.03725155438587535\n",
      "Epoch 10/80, Erro: 0.027309023398103864\n",
      "Epoch 11/80, Erro: 0.04183945437901283\n",
      "Epoch 12/80, Erro: 0.03052008453858107\n",
      "Epoch 13/80, Erro: 0.048838698438200656\n",
      "Epoch 14/80, Erro: 0.031401837328579284\n",
      "Epoch 15/80, Erro: 0.030210879516928114\n",
      "Epoch 16/80, Erro: 0.02653777630394472\n",
      "Epoch 17/80, Erro: 0.022437555476606096\n",
      "Epoch 18/80, Erro: 0.023055545679725266\n",
      "Epoch 19/80, Erro: 0.02390343898641118\n",
      "Epoch 20/80, Erro: 0.030408790055112035\n",
      "Epoch 21/80, Erro: 0.04264971113554075\n",
      "Epoch 22/80, Erro: 0.024002260645633905\n",
      "Epoch 23/80, Erro: 0.03119804026416174\n",
      "Epoch 24/80, Erro: 0.03579445354648414\n",
      "Epoch 25/80, Erro: 0.035906745606558904\n",
      "Epoch 26/80, Erro: 0.02518843664971834\n",
      "Epoch 27/80, Erro: 0.025289791131053865\n",
      "Epoch 28/80, Erro: 0.02506987236309603\n",
      "Epoch 29/80, Erro: 0.01882995872410232\n",
      "Epoch 30/80, Erro: 0.030597051852619263\n",
      "Epoch 31/80, Erro: 0.025264281957253405\n",
      "Epoch 32/80, Erro: 0.02130243602465841\n",
      "Epoch 33/80, Erro: 0.04158997499816292\n",
      "Epoch 34/80, Erro: 0.04103212358476095\n",
      "Epoch 35/80, Erro: 0.04072858407077925\n",
      "Epoch 36/80, Erro: 0.03900772203534993\n",
      "Epoch 37/80, Erro: 0.04077838031003267\n",
      "Epoch 38/80, Erro: 0.04027275162898763\n",
      "Epoch 39/80, Erro: 0.03958189507813606\n",
      "Epoch 40/80, Erro: 0.03787055648383634\n",
      "Epoch 41/80, Erro: 0.038038423811005403\n",
      "Epoch 42/80, Erro: 0.038112109206665766\n",
      "Epoch 43/80, Erro: 0.03895819878549916\n",
      "Epoch 44/80, Erro: 0.025725528191808764\n",
      "Epoch 45/80, Erro: 0.04142040485139966\n",
      "Epoch 46/80, Erro: 0.041844468273921756\n",
      "Epoch 47/80, Erro: 0.03794366304859696\n",
      "Epoch 48/80, Erro: 0.03831384433573695\n",
      "Epoch 49/80, Erro: 0.03833768363161972\n",
      "Epoch 50/80, Erro: 0.03914410887612095\n",
      "Epoch 51/80, Erro: 0.03814280006735028\n",
      "Epoch 52/80, Erro: 0.037730192155005796\n",
      "Epoch 53/80, Erro: 0.03968404524123011\n",
      "Epoch 54/80, Erro: 0.037989263104229\n",
      "Epoch 55/80, Erro: 0.0373760120842899\n",
      "Epoch 56/80, Erro: 0.038500049842655294\n",
      "Epoch 57/80, Erro: 0.038837523073453575\n",
      "Epoch 58/80, Erro: 0.037549249158800695\n",
      "Epoch 59/80, Erro: 0.036204300440025115\n",
      "Epoch 60/80, Erro: 0.03757807452699596\n",
      "Epoch 61/80, Erro: 0.03618881459387308\n",
      "Epoch 62/80, Erro: 0.03748311169181945\n",
      "Epoch 63/80, Erro: 0.038418611021646364\n",
      "Epoch 64/80, Erro: 0.036598361757017535\n",
      "Epoch 65/80, Erro: 0.036785945355803235\n",
      "Epoch 66/80, Erro: 0.03619632133950801\n",
      "Epoch 67/80, Erro: 0.03775051692020007\n",
      "Epoch 68/80, Erro: 0.03604703221506579\n",
      "Epoch 69/80, Erro: 0.03641270096647603\n",
      "Epoch 70/80, Erro: 0.03670356696753781\n",
      "Epoch 71/80, Erro: 0.037588833430337226\n",
      "Epoch 72/80, Erro: 0.03733904103562432\n",
      "Epoch 73/80, Erro: 0.036539232720103294\n",
      "Epoch 74/80, Erro: 0.03681128410992161\n",
      "Epoch 75/80, Erro: 0.03689140434299803\n",
      "Epoch 76/80, Erro: 0.0385158416045729\n",
      "Epoch 77/80, Erro: 0.03690144068786027\n",
      "Epoch 78/80, Erro: 0.036641708608217055\n",
      "Epoch 79/80, Erro: 0.03669290334327026\n",
      "Epoch 80/80, Erro: 0.03678900284366944\n"
     ]
    }
   ],
   "source": [
    "# Função para o loop de treino\n",
    "def treina_modelo(model, train_loader, criterion, optimizer, num_epochs = 80):\n",
    "    \n",
    "    # Coloca o modelo em modo de treino\n",
    "    model.train()\n",
    "    \n",
    "    # Loop pelo número de épocas\n",
    "    for epoch in range(num_epochs):\n",
    "        \n",
    "        # Inicializa o erro\n",
    "        running_loss = 0.0\n",
    "        \n",
    "        # Loop pelos dados\n",
    "        for i, (inputs, labels) in enumerate(train_loader):\n",
    "            \n",
    "            # Ajusta o shape da entrada (11 elementos de inputs) e da saída (1 elemento de label)\n",
    "            inputs = inputs.unsqueeze(-1)\n",
    "            labels = labels.unsqueeze(-1)\n",
    "\n",
    "            # Zera os gradientes\n",
    "            optimizer.zero_grad()\n",
    "\n",
    "            # Faz as previsões (executa a etapa de Método Forward da classe acima)\n",
    "            outputs = model(inputs)\n",
    "            \n",
    "            # Calcula o erro (outputs do modelos vs. labels = valores reais)\n",
    "            loss = criterion(outputs, labels)\n",
    "            \n",
    "            # Aplica o backpropagation (Usando a função Adam)\n",
    "            loss.backward()\n",
    "            optimizer.step()\n",
    "\n",
    "            # Calcula o erro\n",
    "            running_loss += loss.item()\n",
    "        \n",
    "        print(f\"Epoch {epoch + 1}/{num_epochs}, Erro: {running_loss / len(train_loader)}\")\n",
    "        \n",
    "treina_modelo(model, train_loader, criterion, optimizer, num_epochs = 80)"
   ]
  },
  {
   "cell_type": "markdown",
   "id": "816208ce-e19a-4e48-84fa-cf95fe0bfaa5",
   "metadata": {},
   "source": [
    "Obs: o erro diminui a cada epoch do modelo."
   ]
  },
  {
   "cell_type": "markdown",
   "id": "b56ed41c",
   "metadata": {},
   "source": [
    "## Loop de Avaliação"
   ]
  },
  {
   "cell_type": "code",
   "execution_count": 35,
   "id": "937f0fb4",
   "metadata": {},
   "outputs": [
    {
     "name": "stdout",
     "output_type": "stream",
     "text": [
      "Erro em Teste: 0.028604195735074188\n"
     ]
    }
   ],
   "source": [
    "# Função para o loop de avaliação. Esta função une tudo que foi construído até agora.\n",
    "def avalia_modelo(model, test_loader):\n",
    "    \n",
    "    # Coloca o modelo em modo de avaliação\n",
    "    model.eval()\n",
    "    \n",
    "    with torch.no_grad():\n",
    "        \n",
    "        total_loss = 0.0\n",
    "        \n",
    "        for inputs, labels in test_loader:\n",
    "            \n",
    "            inputs = inputs.unsqueeze(-1)\n",
    "            \n",
    "            labels = labels.unsqueeze(-1)\n",
    "\n",
    "            outputs = model(inputs)\n",
    "            \n",
    "            loss = criterion(outputs, labels)\n",
    "            \n",
    "            total_loss += loss.item()\n",
    "        \n",
    "        print(f\"Erro em Teste: {total_loss / len(test_loader)}\")\n",
    "        \n",
    "avalia_modelo(model, test_loader)"
   ]
  },
  {
   "cell_type": "markdown",
   "id": "ee1c8ed5",
   "metadata": {},
   "source": [
    "### Previsão"
   ]
  },
  {
   "cell_type": "code",
   "execution_count": 36,
   "id": "00b14045",
   "metadata": {},
   "outputs": [],
   "source": [
    "def forecast(model, X, num_steps):\n",
    "    \n",
    "    model.eval()\n",
    "    \n",
    "    preds = []\n",
    "    \n",
    "    with torch.no_grad():\n",
    "        \n",
    "        for _ in range(num_steps):\n",
    "            \n",
    "            X_input = X.unsqueeze(-1).unsqueeze(0)\n",
    "            \n",
    "            output = model(X_input)\n",
    "            \n",
    "            preds.append(output.item())\n",
    "\n",
    "            X = torch.cat((X[1:], output.squeeze().unsqueeze(0)), 0)\n",
    "\n",
    "    return preds"
   ]
  },
  {
   "cell_type": "code",
   "execution_count": 37,
   "id": "0847ac21",
   "metadata": {},
   "outputs": [
    {
     "data": {
      "text/plain": [
       "tensor([0.0733, 0.0622, 0.0724, 0.0738, 0.0875, 0.0711, 0.0730, 0.1185, 0.1337,\n",
       "        0.1497, 0.1870, 0.1300])"
      ]
     },
     "execution_count": 37,
     "metadata": {},
     "output_type": "execute_result"
    }
   ],
   "source": [
    "# Janela de previsão para prever os próximos 12 meses\n",
    "num_steps = 12\n",
    "X_12meses = X_teste[-1]\n",
    "X_12meses"
   ]
  },
  {
   "cell_type": "code",
   "execution_count": 38,
   "id": "44aff971",
   "metadata": {},
   "outputs": [
    {
     "data": {
      "text/plain": [
       "[0.2695732116699219,\n",
       " 0.27014923095703125,\n",
       " 0.27015548944473267,\n",
       " 0.2701635956764221,\n",
       " 0.270172655582428,\n",
       " 0.2701842784881592,\n",
       " 0.27019384503364563,\n",
       " 0.27015751600265503,\n",
       " 0.270162969827652,\n",
       " 0.2701690196990967,\n",
       " 0.2701748013496399,\n",
       " 0.2701783776283264]"
      ]
     },
     "execution_count": 38,
     "metadata": {},
     "output_type": "execute_result"
    }
   ],
   "source": [
    "# Fazemos o forecast de 12 passos no temppo (12 meses) a partir dos 12 últimos registros em teste\n",
    "valores_previstos = forecast(model, X_12meses, num_steps)\n",
    "valores_previstos"
   ]
  },
  {
   "cell_type": "markdown",
   "id": "48078e0d-5e8a-439b-bce6-f5e2fe918cfe",
   "metadata": {},
   "source": [
    "Obs: os valores previstos estarão transformados. Eles pecisam voltar ao padrão normal."
   ]
  },
  {
   "cell_type": "code",
   "execution_count": 39,
   "id": "c8b683c6",
   "metadata": {},
   "outputs": [
    {
     "data": {
      "text/plain": [
       "list"
      ]
     },
     "execution_count": 39,
     "metadata": {},
     "output_type": "execute_result"
    }
   ],
   "source": [
    "type(valores_previstos)"
   ]
  },
  {
   "cell_type": "code",
   "execution_count": 40,
   "id": "fe61d88a",
   "metadata": {},
   "outputs": [
    {
     "data": {
      "text/plain": [
       "numpy.ndarray"
      ]
     },
     "execution_count": 40,
     "metadata": {},
     "output_type": "execute_result"
    }
   ],
   "source": [
    "# Voltando os dados para o padrão normal/anterior\n",
    "# 1º) Converte para array numpy e ajusta o shape\n",
    "valores_previstos_arr = np.array(valores_previstos).reshape(-1, 1)\n",
    "\n",
    "type(valores_previstos_arr)"
   ]
  },
  {
   "cell_type": "code",
   "execution_count": 41,
   "id": "d521f584",
   "metadata": {},
   "outputs": [
    {
     "data": {
      "text/plain": [
       "array([[10463.59593887],\n",
       "       [10485.88385241],\n",
       "       [10486.12601207],\n",
       "       [10486.43966648],\n",
       "       [10486.79022141],\n",
       "       [10487.23994649],\n",
       "       [10487.61010482],\n",
       "       [10486.20442567],\n",
       "       [10486.41545052],\n",
       "       [10486.64953818],\n",
       "       [10486.87324758],\n",
       "       [10487.01162453]])"
      ]
     },
     "execution_count": 41,
     "metadata": {},
     "output_type": "execute_result"
    }
   ],
   "source": [
    "# 2º) Inverte a escala das previsões\n",
    "previsoes_finais = scaler.inverse_transform(valores_previstos_arr)\n",
    "previsoes_finais"
   ]
  },
  {
   "cell_type": "code",
   "execution_count": 42,
   "id": "b49ae129-4669-48a4-b8f6-b82c052837a7",
   "metadata": {},
   "outputs": [
    {
     "data": {
      "text/html": [
       "<div>\n",
       "<style scoped>\n",
       "    .dataframe tbody tr th:only-of-type {\n",
       "        vertical-align: middle;\n",
       "    }\n",
       "\n",
       "    .dataframe tbody tr th {\n",
       "        vertical-align: top;\n",
       "    }\n",
       "\n",
       "    .dataframe thead th {\n",
       "        text-align: right;\n",
       "    }\n",
       "</style>\n",
       "<table border=\"1\" class=\"dataframe\">\n",
       "  <thead>\n",
       "    <tr style=\"text-align: right;\">\n",
       "      <th></th>\n",
       "      <th>#Acessos</th>\n",
       "    </tr>\n",
       "  </thead>\n",
       "  <tbody>\n",
       "    <tr>\n",
       "      <th>0</th>\n",
       "      <td>10463.595939</td>\n",
       "    </tr>\n",
       "    <tr>\n",
       "      <th>1</th>\n",
       "      <td>10485.883852</td>\n",
       "    </tr>\n",
       "    <tr>\n",
       "      <th>2</th>\n",
       "      <td>10486.126012</td>\n",
       "    </tr>\n",
       "    <tr>\n",
       "      <th>3</th>\n",
       "      <td>10486.439666</td>\n",
       "    </tr>\n",
       "    <tr>\n",
       "      <th>4</th>\n",
       "      <td>10486.790221</td>\n",
       "    </tr>\n",
       "    <tr>\n",
       "      <th>5</th>\n",
       "      <td>10487.239946</td>\n",
       "    </tr>\n",
       "    <tr>\n",
       "      <th>6</th>\n",
       "      <td>10487.610105</td>\n",
       "    </tr>\n",
       "    <tr>\n",
       "      <th>7</th>\n",
       "      <td>10486.204426</td>\n",
       "    </tr>\n",
       "    <tr>\n",
       "      <th>8</th>\n",
       "      <td>10486.415451</td>\n",
       "    </tr>\n",
       "    <tr>\n",
       "      <th>9</th>\n",
       "      <td>10486.649538</td>\n",
       "    </tr>\n",
       "    <tr>\n",
       "      <th>10</th>\n",
       "      <td>10486.873248</td>\n",
       "    </tr>\n",
       "    <tr>\n",
       "      <th>11</th>\n",
       "      <td>10487.011625</td>\n",
       "    </tr>\n",
       "  </tbody>\n",
       "</table>\n",
       "</div>"
      ],
      "text/plain": [
       "        #Acessos\n",
       "0   10463.595939\n",
       "1   10485.883852\n",
       "2   10486.126012\n",
       "3   10486.439666\n",
       "4   10486.790221\n",
       "5   10487.239946\n",
       "6   10487.610105\n",
       "7   10486.204426\n",
       "8   10486.415451\n",
       "9   10486.649538\n",
       "10  10486.873248\n",
       "11  10487.011625"
      ]
     },
     "execution_count": 42,
     "metadata": {},
     "output_type": "execute_result"
    }
   ],
   "source": [
    "previsoes = pd.DataFrame(previsoes_finais, columns = ['#Acessos'])\n",
    "previsoes"
   ]
  },
  {
   "cell_type": "code",
   "execution_count": 43,
   "id": "b603a697-e9ea-4caa-99cb-377373f9a607",
   "metadata": {},
   "outputs": [
    {
     "data": {
      "text/html": [
       "<div>\n",
       "<style scoped>\n",
       "    .dataframe tbody tr th:only-of-type {\n",
       "        vertical-align: middle;\n",
       "    }\n",
       "\n",
       "    .dataframe tbody tr th {\n",
       "        vertical-align: top;\n",
       "    }\n",
       "\n",
       "    .dataframe thead th {\n",
       "        text-align: right;\n",
       "    }\n",
       "</style>\n",
       "<table border=\"1\" class=\"dataframe\">\n",
       "  <thead>\n",
       "    <tr style=\"text-align: right;\">\n",
       "      <th></th>\n",
       "      <th>#Acessos</th>\n",
       "    </tr>\n",
       "    <tr>\n",
       "      <th>Meses</th>\n",
       "      <th></th>\n",
       "    </tr>\n",
       "  </thead>\n",
       "  <tbody>\n",
       "    <tr>\n",
       "      <th>2023-03-01</th>\n",
       "      <td>10463.595939</td>\n",
       "    </tr>\n",
       "    <tr>\n",
       "      <th>2023-04-01</th>\n",
       "      <td>10485.883852</td>\n",
       "    </tr>\n",
       "    <tr>\n",
       "      <th>2023-05-01</th>\n",
       "      <td>10486.126012</td>\n",
       "    </tr>\n",
       "    <tr>\n",
       "      <th>2023-06-01</th>\n",
       "      <td>10486.439666</td>\n",
       "    </tr>\n",
       "    <tr>\n",
       "      <th>2023-07-01</th>\n",
       "      <td>10486.790221</td>\n",
       "    </tr>\n",
       "  </tbody>\n",
       "</table>\n",
       "</div>"
      ],
      "text/plain": [
       "                #Acessos\n",
       "Meses                   \n",
       "2023-03-01  10463.595939\n",
       "2023-04-01  10485.883852\n",
       "2023-05-01  10486.126012\n",
       "2023-06-01  10486.439666\n",
       "2023-07-01  10486.790221"
      ]
     },
     "execution_count": 43,
     "metadata": {},
     "output_type": "execute_result"
    }
   ],
   "source": [
    "meses = [\"2023-03-01\", \"2023-04-01\", \"2023-05-01\", \"2023-06-01\", \"2023-07-01\", \"2023-08-01\", \"2023-09-01\", \"2023-10-01\", \"2023-11-01\", \"2023-12-01\", \"2024-01-01\", \"2024-02-01\"]\n",
    "previsoes[\"Meses\"] = meses\n",
    "previsoes[\"Meses\"] = pd.to_datetime(previsoes[\"Meses\"], format=\"%Y-%m-%d\")\n",
    "previsoes.set_index(\"Meses\", inplace = True)\n",
    "previsoes.head()"
   ]
  },
  {
   "cell_type": "code",
   "execution_count": 44,
   "id": "a28e04a0-809e-49c1-b43d-e588284a5008",
   "metadata": {},
   "outputs": [
    {
     "data": {
      "image/png": "[encoded data removed]",
      "text/plain": [
       "<Figure size 640x480 with 1 Axes>"
      ]
     },
     "metadata": {},
     "output_type": "display_data"
    }
   ],
   "source": [
    "fig, ax = plt.subplots()\n",
    "plt.ylabel('Qtde. Acessos')\n",
    "plt.title('Série temporal e previsões de acessos até 02/2024')\n",
    "plt.plot(trn, color='black', label='Treino')\n",
    "plt.plot(tst, color='blue', label='Teste')\n",
    "plt.plot(previsoes, color='red', label='Previsões')\n",
    "plt.legend(bbox_to_anchor=(1, 1))\n",
    "ax.xaxis.set_major_formatter(DateFormatter('%Y'))"
   ]
  }
 ],
 "metadata": {
  "kernelspec": {
   "display_name": "Python 3 (ipykernel)",
   "language": "python",
   "name": "python3"
  },
  "language_info": {
   "codemirror_mode": {
    "name": "ipython",
    "version": 3
   },
   "file_extension": ".py",
   "mimetype": "text/x-python",
   "name": "python",
   "nbconvert_exporter": "python",
   "pygments_lexer": "ipython3",
   "version": "3.9.13"
  }
 },
 "nbformat": 4,
 "nbformat_minor": 5
}
