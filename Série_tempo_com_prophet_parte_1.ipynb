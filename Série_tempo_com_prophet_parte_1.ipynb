{
 "cells": [
  {
   "cell_type": "markdown",
   "id": "984710dc",
   "metadata": {},
   "source": [
    "## <font color='orangered'>Testando o **Prophet** com a base do blog Cinetour - Viagem de Cinema</font>"
   ]
  },
  {
   "cell_type": "markdown",
   "id": "9706d54c",
   "metadata": {},
   "source": [
    "**Prophet** é considerada uma das bibliotecas mais robustas para previsões de séries temporais. Vamos testá-la."
   ]
  },
  {
   "cell_type": "markdown",
   "id": "420c9c34",
   "metadata": {},
   "source": [
    "## <font color='blue'>Passo a passo</font>"
   ]
  },
  {
   "cell_type": "markdown",
   "id": "6101ce5b",
   "metadata": {},
   "source": [
    "**Parte 1:** Instalando o Prophet e carregando a biblioteca"
   ]
  },
  {
   "cell_type": "code",
   "execution_count": 1,
   "id": "17326380",
   "metadata": {},
   "outputs": [],
   "source": [
    "#pip install prophet"
   ]
  },
  {
   "cell_type": "code",
   "execution_count": 2,
   "id": "c6d2f2bf",
   "metadata": {},
   "outputs": [],
   "source": [
    "# Pacotes necessários\n",
    "import pandas as pd\n",
    "import numpy as np\n",
    "import matplotlib.pyplot as plt\n",
    "from prophet import Prophet\n",
    "import warnings\n",
    "warnings.filterwarnings('ignore')"
   ]
  },
  {
   "cell_type": "code",
   "execution_count": 3,
   "id": "4ed066d4",
   "metadata": {},
   "outputs": [
    {
     "data": {
      "text/plain": [
       "Meses\n",
       "2010-06-01     33\n",
       "2010-07-01    244\n",
       "2010-08-01    166\n",
       "2010-09-01    196\n",
       "2010-10-01    347\n",
       "Name: #Acessos, dtype: int64"
      ]
     },
     "execution_count": 3,
     "metadata": {},
     "output_type": "execute_result"
    }
   ],
   "source": [
    "# Lendo a base de dados\n",
    "df = pd.read_csv('dados/VC-ST_mes.csv', sep=';', parse_dates = ['Meses'], index_col = 0, squeeze = True)\n",
    "df.head()"
   ]
  },
  {
   "cell_type": "code",
   "execution_count": 4,
   "id": "f011772d",
   "metadata": {},
   "outputs": [
    {
     "name": "stdout",
     "output_type": "stream",
     "text": [
      "<class 'pandas.core.series.Series'>\n",
      "DatetimeIndex: 153 entries, 2010-06-01 to 2023-02-01\n",
      "Series name: #Acessos\n",
      "Non-Null Count  Dtype\n",
      "--------------  -----\n",
      "153 non-null    int64\n",
      "dtypes: int64(1)\n",
      "memory usage: 2.4 KB\n"
     ]
    }
   ],
   "source": [
    "df.info()"
   ]
  },
  {
   "cell_type": "code",
   "execution_count": 5,
   "id": "63cea4cf",
   "metadata": {},
   "outputs": [
    {
     "data": {
      "text/plain": [
       "count      153.000000\n",
       "mean      7183.326797\n",
       "std       5994.375078\n",
       "min         33.000000\n",
       "25%       3818.000000\n",
       "50%       5457.000000\n",
       "75%       7941.000000\n",
       "max      38726.000000\n",
       "Name: #Acessos, dtype: float64"
      ]
     },
     "execution_count": 5,
     "metadata": {},
     "output_type": "execute_result"
    }
   ],
   "source": [
    "df.describe()"
   ]
  },
  {
   "cell_type": "code",
   "execution_count": 6,
   "id": "32383468",
   "metadata": {},
   "outputs": [
    {
     "data": {
      "text/html": [
       "<div>\n",
       "<style scoped>\n",
       "    .dataframe tbody tr th:only-of-type {\n",
       "        vertical-align: middle;\n",
       "    }\n",
       "\n",
       "    .dataframe tbody tr th {\n",
       "        vertical-align: top;\n",
       "    }\n",
       "\n",
       "    .dataframe thead th {\n",
       "        text-align: right;\n",
       "    }\n",
       "</style>\n",
       "<table border=\"1\" class=\"dataframe\">\n",
       "  <thead>\n",
       "    <tr style=\"text-align: right;\">\n",
       "      <th></th>\n",
       "      <th>ds</th>\n",
       "      <th>y</th>\n",
       "    </tr>\n",
       "  </thead>\n",
       "  <tbody>\n",
       "    <tr>\n",
       "      <th>0</th>\n",
       "      <td>2010-06-01</td>\n",
       "      <td>33</td>\n",
       "    </tr>\n",
       "  </tbody>\n",
       "</table>\n",
       "</div>"
      ],
      "text/plain": [
       "          ds   y\n",
       "0 2010-06-01  33"
      ]
     },
     "execution_count": 6,
     "metadata": {},
     "output_type": "execute_result"
    }
   ],
   "source": [
    "df = pd.DataFrame({'ds': df.index, 'y': df.values})\n",
    "df.head(1)"
   ]
  },
  {
   "cell_type": "code",
   "execution_count": 7,
   "id": "fec510fb",
   "metadata": {},
   "outputs": [],
   "source": [
    "# Separando os últimos 50 meses como uma base de validação\n",
    "treino = df[:141]\n",
    "teste = df[141:]"
   ]
  },
  {
   "cell_type": "code",
   "execution_count": 8,
   "id": "e6b552d3",
   "metadata": {},
   "outputs": [
    {
     "data": {
      "text/html": [
       "<div>\n",
       "<style scoped>\n",
       "    .dataframe tbody tr th:only-of-type {\n",
       "        vertical-align: middle;\n",
       "    }\n",
       "\n",
       "    .dataframe tbody tr th {\n",
       "        vertical-align: top;\n",
       "    }\n",
       "\n",
       "    .dataframe thead th {\n",
       "        text-align: right;\n",
       "    }\n",
       "</style>\n",
       "<table border=\"1\" class=\"dataframe\">\n",
       "  <thead>\n",
       "    <tr style=\"text-align: right;\">\n",
       "      <th></th>\n",
       "      <th>ds</th>\n",
       "      <th>y</th>\n",
       "    </tr>\n",
       "  </thead>\n",
       "  <tbody>\n",
       "    <tr>\n",
       "      <th>141</th>\n",
       "      <td>2022-03-01</td>\n",
       "      <td>2835</td>\n",
       "    </tr>\n",
       "    <tr>\n",
       "      <th>142</th>\n",
       "      <td>2022-04-01</td>\n",
       "      <td>2888</td>\n",
       "    </tr>\n",
       "    <tr>\n",
       "      <th>143</th>\n",
       "      <td>2022-05-01</td>\n",
       "      <td>3418</td>\n",
       "    </tr>\n",
       "    <tr>\n",
       "      <th>144</th>\n",
       "      <td>2022-06-01</td>\n",
       "      <td>2783</td>\n",
       "    </tr>\n",
       "    <tr>\n",
       "      <th>145</th>\n",
       "      <td>2022-07-01</td>\n",
       "      <td>2857</td>\n",
       "    </tr>\n",
       "    <tr>\n",
       "      <th>146</th>\n",
       "      <td>2022-08-01</td>\n",
       "      <td>4619</td>\n",
       "    </tr>\n",
       "    <tr>\n",
       "      <th>147</th>\n",
       "      <td>2022-09-01</td>\n",
       "      <td>5207</td>\n",
       "    </tr>\n",
       "    <tr>\n",
       "      <th>148</th>\n",
       "      <td>2022-10-01</td>\n",
       "      <td>5825</td>\n",
       "    </tr>\n",
       "    <tr>\n",
       "      <th>149</th>\n",
       "      <td>2022-11-01</td>\n",
       "      <td>7269</td>\n",
       "    </tr>\n",
       "    <tr>\n",
       "      <th>150</th>\n",
       "      <td>2022-12-01</td>\n",
       "      <td>5065</td>\n",
       "    </tr>\n",
       "    <tr>\n",
       "      <th>151</th>\n",
       "      <td>2023-01-01</td>\n",
       "      <td>5106</td>\n",
       "    </tr>\n",
       "    <tr>\n",
       "      <th>152</th>\n",
       "      <td>2023-02-01</td>\n",
       "      <td>6601</td>\n",
       "    </tr>\n",
       "  </tbody>\n",
       "</table>\n",
       "</div>"
      ],
      "text/plain": [
       "            ds     y\n",
       "141 2022-03-01  2835\n",
       "142 2022-04-01  2888\n",
       "143 2022-05-01  3418\n",
       "144 2022-06-01  2783\n",
       "145 2022-07-01  2857\n",
       "146 2022-08-01  4619\n",
       "147 2022-09-01  5207\n",
       "148 2022-10-01  5825\n",
       "149 2022-11-01  7269\n",
       "150 2022-12-01  5065\n",
       "151 2023-01-01  5106\n",
       "152 2023-02-01  6601"
      ]
     },
     "execution_count": 8,
     "metadata": {},
     "output_type": "execute_result"
    }
   ],
   "source": [
    "teste.head(12)"
   ]
  },
  {
   "cell_type": "markdown",
   "id": "4a642c85",
   "metadata": {},
   "source": [
    "**Parte 2:** Criando o modelo com Prophet "
   ]
  },
  {
   "cell_type": "code",
   "execution_count": 9,
   "id": "d8a5e7bf",
   "metadata": {},
   "outputs": [
    {
     "name": "stderr",
     "output_type": "stream",
     "text": [
      "INFO:prophet:Disabling weekly seasonality. Run prophet with weekly_seasonality=True to override this.\n",
      "INFO:prophet:Disabling daily seasonality. Run prophet with daily_seasonality=True to override this.\n"
     ]
    },
    {
     "data": {
      "text/plain": [
       "<prophet.forecaster.Prophet at 0x27cde18e6a0>"
      ]
     },
     "execution_count": 9,
     "metadata": {},
     "output_type": "execute_result"
    }
   ],
   "source": [
    "modelo = Prophet(seasonality_mode = 'multiplicative')\n",
    "modelo.fit(treino)"
   ]
  },
  {
   "cell_type": "code",
   "execution_count": 10,
   "id": "d0486718",
   "metadata": {},
   "outputs": [
    {
     "data": {
      "text/html": [
       "<div>\n",
       "<style scoped>\n",
       "    .dataframe tbody tr th:only-of-type {\n",
       "        vertical-align: middle;\n",
       "    }\n",
       "\n",
       "    .dataframe tbody tr th {\n",
       "        vertical-align: top;\n",
       "    }\n",
       "\n",
       "    .dataframe thead th {\n",
       "        text-align: right;\n",
       "    }\n",
       "</style>\n",
       "<table border=\"1\" class=\"dataframe\">\n",
       "  <thead>\n",
       "    <tr style=\"text-align: right;\">\n",
       "      <th></th>\n",
       "      <th>ds</th>\n",
       "    </tr>\n",
       "  </thead>\n",
       "  <tbody>\n",
       "    <tr>\n",
       "      <th>0</th>\n",
       "      <td>2022-03-01</td>\n",
       "    </tr>\n",
       "    <tr>\n",
       "      <th>1</th>\n",
       "      <td>2022-04-01</td>\n",
       "    </tr>\n",
       "    <tr>\n",
       "      <th>2</th>\n",
       "      <td>2022-05-01</td>\n",
       "    </tr>\n",
       "    <tr>\n",
       "      <th>3</th>\n",
       "      <td>2022-06-01</td>\n",
       "    </tr>\n",
       "    <tr>\n",
       "      <th>4</th>\n",
       "      <td>2022-07-01</td>\n",
       "    </tr>\n",
       "    <tr>\n",
       "      <th>5</th>\n",
       "      <td>2022-08-01</td>\n",
       "    </tr>\n",
       "    <tr>\n",
       "      <th>6</th>\n",
       "      <td>2022-09-01</td>\n",
       "    </tr>\n",
       "    <tr>\n",
       "      <th>7</th>\n",
       "      <td>2022-10-01</td>\n",
       "    </tr>\n",
       "    <tr>\n",
       "      <th>8</th>\n",
       "      <td>2022-11-01</td>\n",
       "    </tr>\n",
       "    <tr>\n",
       "      <th>9</th>\n",
       "      <td>2022-12-01</td>\n",
       "    </tr>\n",
       "    <tr>\n",
       "      <th>10</th>\n",
       "      <td>2023-01-01</td>\n",
       "    </tr>\n",
       "    <tr>\n",
       "      <th>11</th>\n",
       "      <td>2023-02-01</td>\n",
       "    </tr>\n",
       "  </tbody>\n",
       "</table>\n",
       "</div>"
      ],
      "text/plain": [
       "           ds\n",
       "0  2022-03-01\n",
       "1  2022-04-01\n",
       "2  2022-05-01\n",
       "3  2022-06-01\n",
       "4  2022-07-01\n",
       "5  2022-08-01\n",
       "6  2022-09-01\n",
       "7  2022-10-01\n",
       "8  2022-11-01\n",
       "9  2022-12-01\n",
       "10 2023-01-01\n",
       "11 2023-02-01"
      ]
     },
     "execution_count": 10,
     "metadata": {},
     "output_type": "execute_result"
    }
   ],
   "source": [
    "df_previsoes = pd.DataFrame({'ds': teste['ds'].values})\n",
    "df_previsoes"
   ]
  },
  {
   "cell_type": "code",
   "execution_count": 11,
   "id": "db137602",
   "metadata": {},
   "outputs": [],
   "source": [
    "pred = modelo.predict(df_previsoes)"
   ]
  },
  {
   "cell_type": "code",
   "execution_count": 12,
   "id": "1b5d2ee4",
   "metadata": {},
   "outputs": [
    {
     "data": {
      "text/html": [
       "<div>\n",
       "<style scoped>\n",
       "    .dataframe tbody tr th:only-of-type {\n",
       "        vertical-align: middle;\n",
       "    }\n",
       "\n",
       "    .dataframe tbody tr th {\n",
       "        vertical-align: top;\n",
       "    }\n",
       "\n",
       "    .dataframe thead th {\n",
       "        text-align: right;\n",
       "    }\n",
       "</style>\n",
       "<table border=\"1\" class=\"dataframe\">\n",
       "  <thead>\n",
       "    <tr style=\"text-align: right;\">\n",
       "      <th></th>\n",
       "      <th>ds</th>\n",
       "      <th>yhat_lower</th>\n",
       "      <th>yhat</th>\n",
       "      <th>yhat_upper</th>\n",
       "    </tr>\n",
       "  </thead>\n",
       "  <tbody>\n",
       "    <tr>\n",
       "      <th>0</th>\n",
       "      <td>2022-03-01</td>\n",
       "      <td>-3454.849374</td>\n",
       "      <td>3209.847735</td>\n",
       "      <td>9875.105917</td>\n",
       "    </tr>\n",
       "    <tr>\n",
       "      <th>1</th>\n",
       "      <td>2022-04-01</td>\n",
       "      <td>-2822.692879</td>\n",
       "      <td>3656.203592</td>\n",
       "      <td>9944.988420</td>\n",
       "    </tr>\n",
       "    <tr>\n",
       "      <th>2</th>\n",
       "      <td>2022-05-01</td>\n",
       "      <td>-3079.930293</td>\n",
       "      <td>3295.535582</td>\n",
       "      <td>10017.840305</td>\n",
       "    </tr>\n",
       "    <tr>\n",
       "      <th>3</th>\n",
       "      <td>2022-06-01</td>\n",
       "      <td>-3751.876575</td>\n",
       "      <td>2518.670767</td>\n",
       "      <td>9375.258943</td>\n",
       "    </tr>\n",
       "    <tr>\n",
       "      <th>4</th>\n",
       "      <td>2022-07-01</td>\n",
       "      <td>-4218.488294</td>\n",
       "      <td>2068.794684</td>\n",
       "      <td>8316.264894</td>\n",
       "    </tr>\n",
       "    <tr>\n",
       "      <th>5</th>\n",
       "      <td>2022-08-01</td>\n",
       "      <td>-2786.306188</td>\n",
       "      <td>3412.162592</td>\n",
       "      <td>9724.942891</td>\n",
       "    </tr>\n",
       "    <tr>\n",
       "      <th>6</th>\n",
       "      <td>2022-09-01</td>\n",
       "      <td>-3685.874177</td>\n",
       "      <td>2882.329764</td>\n",
       "      <td>9460.015227</td>\n",
       "    </tr>\n",
       "    <tr>\n",
       "      <th>7</th>\n",
       "      <td>2022-10-01</td>\n",
       "      <td>-4768.380049</td>\n",
       "      <td>1883.197080</td>\n",
       "      <td>8292.976678</td>\n",
       "    </tr>\n",
       "    <tr>\n",
       "      <th>8</th>\n",
       "      <td>2022-11-01</td>\n",
       "      <td>-3937.442312</td>\n",
       "      <td>2689.606050</td>\n",
       "      <td>8786.441061</td>\n",
       "    </tr>\n",
       "    <tr>\n",
       "      <th>9</th>\n",
       "      <td>2022-12-01</td>\n",
       "      <td>-3825.257289</td>\n",
       "      <td>2802.613182</td>\n",
       "      <td>9938.984906</td>\n",
       "    </tr>\n",
       "    <tr>\n",
       "      <th>10</th>\n",
       "      <td>2023-01-01</td>\n",
       "      <td>-4253.166913</td>\n",
       "      <td>2177.949318</td>\n",
       "      <td>9000.370182</td>\n",
       "    </tr>\n",
       "    <tr>\n",
       "      <th>11</th>\n",
       "      <td>2023-02-01</td>\n",
       "      <td>-4190.380789</td>\n",
       "      <td>2244.105089</td>\n",
       "      <td>9138.562443</td>\n",
       "    </tr>\n",
       "  </tbody>\n",
       "</table>\n",
       "</div>"
      ],
      "text/plain": [
       "           ds   yhat_lower         yhat    yhat_upper\n",
       "0  2022-03-01 -3454.849374  3209.847735   9875.105917\n",
       "1  2022-04-01 -2822.692879  3656.203592   9944.988420\n",
       "2  2022-05-01 -3079.930293  3295.535582  10017.840305\n",
       "3  2022-06-01 -3751.876575  2518.670767   9375.258943\n",
       "4  2022-07-01 -4218.488294  2068.794684   8316.264894\n",
       "5  2022-08-01 -2786.306188  3412.162592   9724.942891\n",
       "6  2022-09-01 -3685.874177  2882.329764   9460.015227\n",
       "7  2022-10-01 -4768.380049  1883.197080   8292.976678\n",
       "8  2022-11-01 -3937.442312  2689.606050   8786.441061\n",
       "9  2022-12-01 -3825.257289  2802.613182   9938.984906\n",
       "10 2023-01-01 -4253.166913  2177.949318   9000.370182\n",
       "11 2023-02-01 -4190.380789  2244.105089   9138.562443"
      ]
     },
     "execution_count": 12,
     "metadata": {},
     "output_type": "execute_result"
    }
   ],
   "source": [
    "pred[['ds', 'yhat_lower' , 'yhat', 'yhat_upper']].tail(12)"
   ]
  },
  {
   "cell_type": "code",
   "execution_count": 13,
   "id": "36078299",
   "metadata": {},
   "outputs": [],
   "source": [
    "from sklearn.metrics import mean_squared_error\n",
    "from math import sqrt"
   ]
  },
  {
   "cell_type": "code",
   "execution_count": 14,
   "id": "2bd1e07c",
   "metadata": {},
   "outputs": [
    {
     "name": "stdout",
     "output_type": "stream",
     "text": [
      "2541.003710801039\n"
     ]
    }
   ],
   "source": [
    "rmse = sqrt(mean_squared_error(teste.y, pred.yhat))\n",
    "print(rmse)"
   ]
  },
  {
   "cell_type": "code",
   "execution_count": 15,
   "id": "26724353",
   "metadata": {},
   "outputs": [
    {
     "data": {
      "image/png": "[encoded data removed]",
      "text/plain": [
       "<Figure size 1000x600 with 1 Axes>"
      ]
     },
     "metadata": {},
     "output_type": "display_data"
    }
   ],
   "source": [
    "modelo.plot(pred);"
   ]
  },
  {
   "cell_type": "code",
   "execution_count": 16,
   "id": "1f8a743c",
   "metadata": {},
   "outputs": [],
   "source": [
    "# Próximo passo: cross-validation y tuning de hiperparâmetros"
   ]
  },
  {
   "cell_type": "code",
   "execution_count": 17,
   "id": "71f677cd",
   "metadata": {},
   "outputs": [
    {
     "name": "stderr",
     "output_type": "stream",
     "text": [
      "INFO:prophet:Disabling weekly seasonality. Run prophet with weekly_seasonality=True to override this.\n",
      "INFO:prophet:Disabling daily seasonality. Run prophet with daily_seasonality=True to override this.\n"
     ]
    },
    {
     "data": {
      "text/plain": [
       "<prophet.forecaster.Prophet at 0x27ce0f3ef70>"
      ]
     },
     "execution_count": 17,
     "metadata": {},
     "output_type": "execute_result"
    }
   ],
   "source": [
    "modelo2 = Prophet(seasonality_mode = 'additive')\n",
    "modelo2.fit(treino)"
   ]
  },
  {
   "cell_type": "code",
   "execution_count": 18,
   "id": "0ab6b71f",
   "metadata": {},
   "outputs": [],
   "source": [
    "pred2 = modelo2.predict(df_previsoes)"
   ]
  },
  {
   "cell_type": "code",
   "execution_count": 19,
   "id": "b7f736b2",
   "metadata": {},
   "outputs": [
    {
     "data": {
      "text/html": [
       "<div>\n",
       "<style scoped>\n",
       "    .dataframe tbody tr th:only-of-type {\n",
       "        vertical-align: middle;\n",
       "    }\n",
       "\n",
       "    .dataframe tbody tr th {\n",
       "        vertical-align: top;\n",
       "    }\n",
       "\n",
       "    .dataframe thead th {\n",
       "        text-align: right;\n",
       "    }\n",
       "</style>\n",
       "<table border=\"1\" class=\"dataframe\">\n",
       "  <thead>\n",
       "    <tr style=\"text-align: right;\">\n",
       "      <th></th>\n",
       "      <th>ds</th>\n",
       "      <th>yhat_lower</th>\n",
       "      <th>yhat</th>\n",
       "      <th>yhat_upper</th>\n",
       "    </tr>\n",
       "  </thead>\n",
       "  <tbody>\n",
       "    <tr>\n",
       "      <th>0</th>\n",
       "      <td>2022-03-01</td>\n",
       "      <td>-3402.079244</td>\n",
       "      <td>3223.902796</td>\n",
       "      <td>9991.016608</td>\n",
       "    </tr>\n",
       "    <tr>\n",
       "      <th>1</th>\n",
       "      <td>2022-04-01</td>\n",
       "      <td>-2647.780532</td>\n",
       "      <td>4193.372301</td>\n",
       "      <td>10652.193449</td>\n",
       "    </tr>\n",
       "    <tr>\n",
       "      <th>2</th>\n",
       "      <td>2022-05-01</td>\n",
       "      <td>-2712.688533</td>\n",
       "      <td>3934.538984</td>\n",
       "      <td>10429.083595</td>\n",
       "    </tr>\n",
       "    <tr>\n",
       "      <th>3</th>\n",
       "      <td>2022-06-01</td>\n",
       "      <td>-4217.874697</td>\n",
       "      <td>2190.708709</td>\n",
       "      <td>8343.103147</td>\n",
       "    </tr>\n",
       "    <tr>\n",
       "      <th>4</th>\n",
       "      <td>2022-07-01</td>\n",
       "      <td>-5286.792742</td>\n",
       "      <td>1272.435496</td>\n",
       "      <td>7596.720959</td>\n",
       "    </tr>\n",
       "    <tr>\n",
       "      <th>5</th>\n",
       "      <td>2022-08-01</td>\n",
       "      <td>-2423.542265</td>\n",
       "      <td>3775.406827</td>\n",
       "      <td>9841.838440</td>\n",
       "    </tr>\n",
       "    <tr>\n",
       "      <th>6</th>\n",
       "      <td>2022-09-01</td>\n",
       "      <td>-3309.166642</td>\n",
       "      <td>2898.891330</td>\n",
       "      <td>9183.671808</td>\n",
       "    </tr>\n",
       "    <tr>\n",
       "      <th>7</th>\n",
       "      <td>2022-10-01</td>\n",
       "      <td>-5383.508526</td>\n",
       "      <td>1116.559938</td>\n",
       "      <td>7725.070512</td>\n",
       "    </tr>\n",
       "    <tr>\n",
       "      <th>8</th>\n",
       "      <td>2022-11-01</td>\n",
       "      <td>-3789.083396</td>\n",
       "      <td>2829.067377</td>\n",
       "      <td>10002.742580</td>\n",
       "    </tr>\n",
       "    <tr>\n",
       "      <th>9</th>\n",
       "      <td>2022-12-01</td>\n",
       "      <td>-2977.962947</td>\n",
       "      <td>3775.203024</td>\n",
       "      <td>9856.938652</td>\n",
       "    </tr>\n",
       "    <tr>\n",
       "      <th>10</th>\n",
       "      <td>2023-01-01</td>\n",
       "      <td>-4445.391623</td>\n",
       "      <td>2276.449558</td>\n",
       "      <td>8031.088028</td>\n",
       "    </tr>\n",
       "    <tr>\n",
       "      <th>11</th>\n",
       "      <td>2023-02-01</td>\n",
       "      <td>-3630.572941</td>\n",
       "      <td>2941.675462</td>\n",
       "      <td>9739.622326</td>\n",
       "    </tr>\n",
       "  </tbody>\n",
       "</table>\n",
       "</div>"
      ],
      "text/plain": [
       "           ds   yhat_lower         yhat    yhat_upper\n",
       "0  2022-03-01 -3402.079244  3223.902796   9991.016608\n",
       "1  2022-04-01 -2647.780532  4193.372301  10652.193449\n",
       "2  2022-05-01 -2712.688533  3934.538984  10429.083595\n",
       "3  2022-06-01 -4217.874697  2190.708709   8343.103147\n",
       "4  2022-07-01 -5286.792742  1272.435496   7596.720959\n",
       "5  2022-08-01 -2423.542265  3775.406827   9841.838440\n",
       "6  2022-09-01 -3309.166642  2898.891330   9183.671808\n",
       "7  2022-10-01 -5383.508526  1116.559938   7725.070512\n",
       "8  2022-11-01 -3789.083396  2829.067377  10002.742580\n",
       "9  2022-12-01 -2977.962947  3775.203024   9856.938652\n",
       "10 2023-01-01 -4445.391623  2276.449558   8031.088028\n",
       "11 2023-02-01 -3630.572941  2941.675462   9739.622326"
      ]
     },
     "execution_count": 19,
     "metadata": {},
     "output_type": "execute_result"
    }
   ],
   "source": [
    "pred2[['ds', 'yhat_lower' , 'yhat', 'yhat_upper']].tail(12)"
   ]
  },
  {
   "cell_type": "code",
   "execution_count": 20,
   "id": "aaefc7fa",
   "metadata": {},
   "outputs": [
    {
     "data": {
      "image/png": "[encoded data removed]",
      "text/plain": [
       "<Figure size 1000x600 with 1 Axes>"
      ]
     },
     "metadata": {},
     "output_type": "display_data"
    }
   ],
   "source": [
    "modelo2.plot(pred2);"
   ]
  },
  {
   "cell_type": "code",
   "execution_count": 21,
   "id": "3d4873c9",
   "metadata": {},
   "outputs": [],
   "source": [
    "index_col=['Meses']"
   ]
  },
  {
   "cell_type": "code",
   "execution_count": 22,
   "id": "392ed810",
   "metadata": {},
   "outputs": [
    {
     "data": {
      "text/html": [
       "<div>\n",
       "<style scoped>\n",
       "    .dataframe tbody tr th:only-of-type {\n",
       "        vertical-align: middle;\n",
       "    }\n",
       "\n",
       "    .dataframe tbody tr th {\n",
       "        vertical-align: top;\n",
       "    }\n",
       "\n",
       "    .dataframe thead th {\n",
       "        text-align: right;\n",
       "    }\n",
       "</style>\n",
       "<table border=\"1\" class=\"dataframe\">\n",
       "  <thead>\n",
       "    <tr style=\"text-align: right;\">\n",
       "      <th></th>\n",
       "      <th>Prev.Aditivo</th>\n",
       "      <th>Prev.Multiplicativo</th>\n",
       "    </tr>\n",
       "  </thead>\n",
       "  <tbody>\n",
       "    <tr>\n",
       "      <th>0</th>\n",
       "      <td>3223.902796</td>\n",
       "      <td>3209.847735</td>\n",
       "    </tr>\n",
       "    <tr>\n",
       "      <th>1</th>\n",
       "      <td>4193.372301</td>\n",
       "      <td>3656.203592</td>\n",
       "    </tr>\n",
       "    <tr>\n",
       "      <th>2</th>\n",
       "      <td>3934.538984</td>\n",
       "      <td>3295.535582</td>\n",
       "    </tr>\n",
       "    <tr>\n",
       "      <th>3</th>\n",
       "      <td>2190.708709</td>\n",
       "      <td>2518.670767</td>\n",
       "    </tr>\n",
       "    <tr>\n",
       "      <th>4</th>\n",
       "      <td>1272.435496</td>\n",
       "      <td>2068.794684</td>\n",
       "    </tr>\n",
       "    <tr>\n",
       "      <th>5</th>\n",
       "      <td>3775.406827</td>\n",
       "      <td>3412.162592</td>\n",
       "    </tr>\n",
       "    <tr>\n",
       "      <th>6</th>\n",
       "      <td>2898.891330</td>\n",
       "      <td>2882.329764</td>\n",
       "    </tr>\n",
       "    <tr>\n",
       "      <th>7</th>\n",
       "      <td>1116.559938</td>\n",
       "      <td>1883.197080</td>\n",
       "    </tr>\n",
       "    <tr>\n",
       "      <th>8</th>\n",
       "      <td>2829.067377</td>\n",
       "      <td>2689.606050</td>\n",
       "    </tr>\n",
       "    <tr>\n",
       "      <th>9</th>\n",
       "      <td>3775.203024</td>\n",
       "      <td>2802.613182</td>\n",
       "    </tr>\n",
       "    <tr>\n",
       "      <th>10</th>\n",
       "      <td>2276.449558</td>\n",
       "      <td>2177.949318</td>\n",
       "    </tr>\n",
       "    <tr>\n",
       "      <th>11</th>\n",
       "      <td>2941.675462</td>\n",
       "      <td>2244.105089</td>\n",
       "    </tr>\n",
       "  </tbody>\n",
       "</table>\n",
       "</div>"
      ],
      "text/plain": [
       "    Prev.Aditivo  Prev.Multiplicativo\n",
       "0    3223.902796          3209.847735\n",
       "1    4193.372301          3656.203592\n",
       "2    3934.538984          3295.535582\n",
       "3    2190.708709          2518.670767\n",
       "4    1272.435496          2068.794684\n",
       "5    3775.406827          3412.162592\n",
       "6    2898.891330          2882.329764\n",
       "7    1116.559938          1883.197080\n",
       "8    2829.067377          2689.606050\n",
       "9    3775.203024          2802.613182\n",
       "10   2276.449558          2177.949318\n",
       "11   2941.675462          2244.105089"
      ]
     },
     "execution_count": 22,
     "metadata": {},
     "output_type": "execute_result"
    }
   ],
   "source": [
    "resultados = pd.DataFrame({\n",
    "    'Prev.Aditivo': pred2.yhat, \n",
    "    'Prev.Multiplicativo': pred.yhat,\n",
    "    })\n",
    "\n",
    "resultados.head(12)"
   ]
  },
  {
   "cell_type": "code",
   "execution_count": 24,
   "id": "ae59e94a",
   "metadata": {},
   "outputs": [],
   "source": [
    "df_comp = pd.concat([df, resultados], ignore_index=True)"
   ]
  },
  {
   "cell_type": "code",
   "execution_count": 25,
   "id": "fe346d9f",
   "metadata": {},
   "outputs": [
    {
     "data": {
      "text/plain": [
       "<Axes: >"
      ]
     },
     "execution_count": 25,
     "metadata": {},
     "output_type": "execute_result"
    },
    {
     "data": {
      "image/png": "[encoded data removed]",
      "text/plain": [
       "<Figure size 1600x800 with 1 Axes>"
      ]
     },
     "metadata": {},
     "output_type": "display_data"
    }
   ],
   "source": [
    "df_comp.plot(figsize = (16, 8))"
   ]
  },
  {
   "cell_type": "code",
   "execution_count": 26,
   "id": "d7284159",
   "metadata": {},
   "outputs": [],
   "source": [
    "# Próximos passos: cross-validaion e tuning de hiperparâmetros"
   ]
  }
 ],
 "metadata": {
  "kernelspec": {
   "display_name": "Python 3 (ipykernel)",
   "language": "python",
   "name": "python3"
  },
  "language_info": {
   "codemirror_mode": {
    "name": "ipython",
    "version": 3
   },
   "file_extension": ".py",
   "mimetype": "text/x-python",
   "name": "python",
   "nbconvert_exporter": "python",
   "pygments_lexer": "ipython3",
   "version": "3.9.13"
  }
 },
 "nbformat": 4,
 "nbformat_minor": 5
}
