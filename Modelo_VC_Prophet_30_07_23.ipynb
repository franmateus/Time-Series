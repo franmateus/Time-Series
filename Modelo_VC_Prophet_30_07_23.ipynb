{
 "cells": [
  {
   "cell_type": "markdown",
   "metadata": {},
   "source": [
    "# <font color='blue'>Data Science Academy</font>\n",
    "# <font color='blue'>Análise e Previsão de Séries Temporais com Inteligência Artificial</font>\n",
    "\n",
    "## <font color='blue'>Estudo de Caso 1</font>\n",
    "### <font color='blue'>Previsão de Demanda de Produtos ao Longo do Tempo Para Otimizar Decisões de Logística</font>\n",
    "### <font color='blue'>Parte 2 - Facebook Prophet</font>"
   ]
  },
  {
   "cell_type": "markdown",
   "metadata": {},
   "source": [
    "## Instalando e Carregando os Pacotes"
   ]
  },
  {
   "cell_type": "code",
   "execution_count": 1,
   "metadata": {},
   "outputs": [
    {
     "name": "stdout",
     "output_type": "stream",
     "text": [
      "Versão da Linguagem Python Usada Neste Jupyter Notebook: 3.9.13\n"
     ]
    }
   ],
   "source": [
    "# Versão da Linguagem Python\n",
    "from platform import python_version\n",
    "print('Versão da Linguagem Python Usada Neste Jupyter Notebook:', python_version())"
   ]
  },
  {
   "cell_type": "code",
   "execution_count": 2,
   "metadata": {},
   "outputs": [
    {
     "name": "stderr",
     "output_type": "stream",
     "text": [
      "WARNING: Ignoring invalid distribution -atplotlib (c:\\users\\mfran\\anaconda3\\lib\\site-packages)\n",
      "WARNING: Ignoring invalid distribution -atplotlib (c:\\users\\mfran\\anaconda3\\lib\\site-packages)\n",
      "WARNING: Ignoring invalid distribution -atplotlib (c:\\users\\mfran\\anaconda3\\lib\\site-packages)\n",
      "WARNING: Ignoring invalid distribution -atplotlib (c:\\users\\mfran\\anaconda3\\lib\\site-packages)\n",
      "WARNING: Ignoring invalid distribution -atplotlib (c:\\users\\mfran\\anaconda3\\lib\\site-packages)\n",
      "WARNING: Ignoring invalid distribution -atplotlib (c:\\users\\mfran\\anaconda3\\lib\\site-packages)\n"
     ]
    }
   ],
   "source": [
    "# Para atualizar um pacote, execute o comando abaixo no terminal ou prompt de comando:\n",
    "# pip install -U nome_pacote\n",
    "\n",
    "# Para instalar a versão exata de um pacote, execute o comando abaixo no terminal ou prompt de comando:\n",
    "# !pip install nome_pacote==versão_desejada\n",
    "\n",
    "# Depois de instalar ou atualizar o pacote, reinicie o jupyter notebook.\n",
    "\n",
    "# Instala o pacote watermark. \n",
    "# Esse pacote é usado para gravar as versões de outros pacotes usados neste jupyter notebook.\n",
    "!pip install -q -U watermark"
   ]
  },
  {
   "cell_type": "code",
   "execution_count": 3,
   "metadata": {},
   "outputs": [
    {
     "name": "stderr",
     "output_type": "stream",
     "text": [
      "WARNING: Ignoring invalid distribution -atplotlib (c:\\users\\mfran\\anaconda3\\lib\\site-packages)\n",
      "WARNING: Ignoring invalid distribution -atplotlib (c:\\users\\mfran\\anaconda3\\lib\\site-packages)\n",
      "WARNING: Ignoring invalid distribution -atplotlib (c:\\users\\mfran\\anaconda3\\lib\\site-packages)\n",
      "WARNING: Ignoring invalid distribution -atplotlib (c:\\users\\mfran\\anaconda3\\lib\\site-packages)\n",
      "WARNING: Ignoring invalid distribution -atplotlib (c:\\users\\mfran\\anaconda3\\lib\\site-packages)\n",
      "WARNING: Ignoring invalid distribution -atplotlib (c:\\users\\mfran\\anaconda3\\lib\\site-packages)\n"
     ]
    }
   ],
   "source": [
    "!pip install -q pystan"
   ]
  },
  {
   "cell_type": "code",
   "execution_count": 4,
   "metadata": {},
   "outputs": [
    {
     "name": "stderr",
     "output_type": "stream",
     "text": [
      "WARNING: Ignoring invalid distribution -atplotlib (c:\\users\\mfran\\anaconda3\\lib\\site-packages)\n",
      "WARNING: Ignoring invalid distribution -atplotlib (c:\\users\\mfran\\anaconda3\\lib\\site-packages)\n",
      "WARNING: Ignoring invalid distribution -atplotlib (c:\\users\\mfran\\anaconda3\\lib\\site-packages)\n",
      "WARNING: Ignoring invalid distribution -atplotlib (c:\\users\\mfran\\anaconda3\\lib\\site-packages)\n",
      "WARNING: Ignoring invalid distribution -atplotlib (c:\\users\\mfran\\anaconda3\\lib\\site-packages)\n",
      "WARNING: Ignoring invalid distribution -atplotlib (c:\\users\\mfran\\anaconda3\\lib\\site-packages)\n"
     ]
    }
   ],
   "source": [
    "!pip install -q prophet"
   ]
  },
  {
   "cell_type": "code",
   "execution_count": 5,
   "metadata": {},
   "outputs": [],
   "source": [
    "# Imports\n",
    "import sklearn\n",
    "import pandas as pd\n",
    "import numpy as np\n",
    "import datetime\n",
    "import requests\n",
    "import warnings\n",
    "import matplotlib.pyplot as plt\n",
    "import matplotlib.dates as mdates\n",
    "import statsmodels.api as sm\n",
    "from sklearn.model_selection import TimeSeriesSplit\n",
    "from statsmodels.tsa.seasonal import seasonal_decompose\n",
    "from sklearn.metrics import mean_squared_error, mean_absolute_error\n",
    "from sklearn.model_selection import train_test_split\n",
    "import prophet\n",
    "from prophet import Prophet"
   ]
  },
  {
   "cell_type": "code",
   "execution_count": 6,
   "metadata": {},
   "outputs": [
    {
     "name": "stdout",
     "output_type": "stream",
     "text": [
      "Author: Data Science Academy\n",
      "\n",
      "statsmodels: 0.13.2\n",
      "numpy      : 1.21.5\n",
      "pandas     : 1.4.4\n",
      "sklearn    : 1.2.2\n",
      "requests   : 2.28.1\n",
      "prophet    : 1.0.1\n",
      "matplotlib : 3.7.1\n",
      "\n"
     ]
    }
   ],
   "source": [
    "# Versões dos pacotes usados neste jupyter notebook\n",
    "%reload_ext watermark\n",
    "%watermark -a \"Data Science Academy\" --iversions"
   ]
  },
  {
   "cell_type": "markdown",
   "metadata": {},
   "source": [
    "## Carregando os Dados"
   ]
  },
  {
   "cell_type": "code",
   "execution_count": 19,
   "metadata": {},
   "outputs": [
    {
     "data": {
      "text/html": [
       "<div>\n",
       "<style scoped>\n",
       "    .dataframe tbody tr th:only-of-type {\n",
       "        vertical-align: middle;\n",
       "    }\n",
       "\n",
       "    .dataframe tbody tr th {\n",
       "        vertical-align: top;\n",
       "    }\n",
       "\n",
       "    .dataframe thead th {\n",
       "        text-align: right;\n",
       "    }\n",
       "</style>\n",
       "<table border=\"1\" class=\"dataframe\">\n",
       "  <thead>\n",
       "    <tr style=\"text-align: right;\">\n",
       "      <th></th>\n",
       "      <th>acessos</th>\n",
       "    </tr>\n",
       "    <tr>\n",
       "      <th>data</th>\n",
       "      <th></th>\n",
       "    </tr>\n",
       "  </thead>\n",
       "  <tbody>\n",
       "    <tr>\n",
       "      <th>01/06/2022</th>\n",
       "      <td>74</td>\n",
       "    </tr>\n",
       "    <tr>\n",
       "      <th>02/06/2022</th>\n",
       "      <td>129</td>\n",
       "    </tr>\n",
       "    <tr>\n",
       "      <th>03/06/2022</th>\n",
       "      <td>189</td>\n",
       "    </tr>\n",
       "    <tr>\n",
       "      <th>04/06/2022</th>\n",
       "      <td>196</td>\n",
       "    </tr>\n",
       "    <tr>\n",
       "      <th>05/06/2022</th>\n",
       "      <td>74</td>\n",
       "    </tr>\n",
       "    <tr>\n",
       "      <th>06/06/2022</th>\n",
       "      <td>61</td>\n",
       "    </tr>\n",
       "    <tr>\n",
       "      <th>07/06/2022</th>\n",
       "      <td>66</td>\n",
       "    </tr>\n",
       "    <tr>\n",
       "      <th>08/06/2022</th>\n",
       "      <td>93</td>\n",
       "    </tr>\n",
       "    <tr>\n",
       "      <th>09/06/2022</th>\n",
       "      <td>204</td>\n",
       "    </tr>\n",
       "    <tr>\n",
       "      <th>10/06/2022</th>\n",
       "      <td>91</td>\n",
       "    </tr>\n",
       "  </tbody>\n",
       "</table>\n",
       "</div>"
      ],
      "text/plain": [
       "            acessos\n",
       "data               \n",
       "01/06/2022       74\n",
       "02/06/2022      129\n",
       "03/06/2022      189\n",
       "04/06/2022      196\n",
       "05/06/2022       74\n",
       "06/06/2022       61\n",
       "07/06/2022       66\n",
       "08/06/2022       93\n",
       "09/06/2022      204\n",
       "10/06/2022       91"
      ]
     },
     "execution_count": 19,
     "metadata": {},
     "output_type": "execute_result"
    }
   ],
   "source": [
    "# Carrega o dataset\n",
    "dados = pd.read_csv('vc_st_dia_fb.csv', sep=';', index_col='data')\n",
    "dados.head(10)"
   ]
  },
  {
   "cell_type": "code",
   "execution_count": 8,
   "metadata": {},
   "outputs": [
    {
     "data": {
      "text/html": [
       "<div>\n",
       "<style scoped>\n",
       "    .dataframe tbody tr th:only-of-type {\n",
       "        vertical-align: middle;\n",
       "    }\n",
       "\n",
       "    .dataframe tbody tr th {\n",
       "        vertical-align: top;\n",
       "    }\n",
       "\n",
       "    .dataframe thead th {\n",
       "        text-align: right;\n",
       "    }\n",
       "</style>\n",
       "<table border=\"1\" class=\"dataframe\">\n",
       "  <thead>\n",
       "    <tr style=\"text-align: right;\">\n",
       "      <th></th>\n",
       "      <th>acessos</th>\n",
       "    </tr>\n",
       "    <tr>\n",
       "      <th>data</th>\n",
       "      <th></th>\n",
       "    </tr>\n",
       "  </thead>\n",
       "  <tbody>\n",
       "    <tr>\n",
       "      <th>26/02/2023</th>\n",
       "      <td>253</td>\n",
       "    </tr>\n",
       "    <tr>\n",
       "      <th>27/02/2023</th>\n",
       "      <td>233</td>\n",
       "    </tr>\n",
       "    <tr>\n",
       "      <th>28/02/2023</th>\n",
       "      <td>244</td>\n",
       "    </tr>\n",
       "  </tbody>\n",
       "</table>\n",
       "</div>"
      ],
      "text/plain": [
       "            acessos\n",
       "data               \n",
       "26/02/2023      253\n",
       "27/02/2023      233\n",
       "28/02/2023      244"
      ]
     },
     "execution_count": 8,
     "metadata": {},
     "output_type": "execute_result"
    }
   ],
   "source": [
    "dados.tail(3)"
   ]
  },
  {
   "cell_type": "code",
   "execution_count": 9,
   "metadata": {},
   "outputs": [
    {
     "data": {
      "text/plain": [
       "DatetimeIndex(['2022-06-01', '2022-06-02', '2022-06-03', '2022-06-04',\n",
       "               '2022-06-05', '2022-06-06', '2022-06-07', '2022-06-08',\n",
       "               '2022-06-09', '2022-06-10',\n",
       "               ...\n",
       "               '2023-02-19', '2023-02-20', '2023-02-21', '2023-02-22',\n",
       "               '2023-02-23', '2023-02-24', '2023-02-25', '2023-02-26',\n",
       "               '2023-02-27', '2023-02-28'],\n",
       "              dtype='datetime64[ns]', name='data', length=273, freq=None)"
      ]
     },
     "execution_count": 9,
     "metadata": {},
     "output_type": "execute_result"
    }
   ],
   "source": [
    "dados.index = pd.to_datetime(dados.index, format='%d/%m/%Y')\n",
    "dados.index"
   ]
  },
  {
   "cell_type": "code",
   "execution_count": 10,
   "metadata": {},
   "outputs": [
    {
     "data": {
      "text/plain": [
       "DatetimeIndex(['2022-06-01', '2022-06-02', '2022-06-03', '2022-06-04',\n",
       "               '2022-06-05', '2022-06-06', '2022-06-07', '2022-06-08',\n",
       "               '2022-06-09', '2022-06-10',\n",
       "               ...\n",
       "               '2023-02-19', '2023-02-20', '2023-02-21', '2023-02-22',\n",
       "               '2023-02-23', '2023-02-24', '2023-02-25', '2023-02-26',\n",
       "               '2023-02-27', '2023-02-28'],\n",
       "              dtype='datetime64[ns]', name='data', length=273, freq='D')"
      ]
     },
     "execution_count": 10,
     "metadata": {},
     "output_type": "execute_result"
    }
   ],
   "source": [
    "# Determinando a frequência como \"diária\"\n",
    "dados_ts = dados.asfreq('D')\n",
    "dados_ts.index"
   ]
  },
  {
   "cell_type": "code",
   "execution_count": 11,
   "metadata": {},
   "outputs": [
    {
     "data": {
      "text/html": [
       "<div>\n",
       "<style scoped>\n",
       "    .dataframe tbody tr th:only-of-type {\n",
       "        vertical-align: middle;\n",
       "    }\n",
       "\n",
       "    .dataframe tbody tr th {\n",
       "        vertical-align: top;\n",
       "    }\n",
       "\n",
       "    .dataframe thead th {\n",
       "        text-align: right;\n",
       "    }\n",
       "</style>\n",
       "<table border=\"1\" class=\"dataframe\">\n",
       "  <thead>\n",
       "    <tr style=\"text-align: right;\">\n",
       "      <th></th>\n",
       "      <th>acessos</th>\n",
       "    </tr>\n",
       "  </thead>\n",
       "  <tbody>\n",
       "    <tr>\n",
       "      <th>count</th>\n",
       "      <td>273.000000</td>\n",
       "    </tr>\n",
       "    <tr>\n",
       "      <th>mean</th>\n",
       "      <td>166.996337</td>\n",
       "    </tr>\n",
       "    <tr>\n",
       "      <th>std</th>\n",
       "      <td>111.178794</td>\n",
       "    </tr>\n",
       "    <tr>\n",
       "      <th>min</th>\n",
       "      <td>49.000000</td>\n",
       "    </tr>\n",
       "    <tr>\n",
       "      <th>25%</th>\n",
       "      <td>111.000000</td>\n",
       "    </tr>\n",
       "    <tr>\n",
       "      <th>50%</th>\n",
       "      <td>151.000000</td>\n",
       "    </tr>\n",
       "    <tr>\n",
       "      <th>75%</th>\n",
       "      <td>200.000000</td>\n",
       "    </tr>\n",
       "    <tr>\n",
       "      <th>max</th>\n",
       "      <td>1543.000000</td>\n",
       "    </tr>\n",
       "  </tbody>\n",
       "</table>\n",
       "</div>"
      ],
      "text/plain": [
       "           acessos\n",
       "count   273.000000\n",
       "mean    166.996337\n",
       "std     111.178794\n",
       "min      49.000000\n",
       "25%     111.000000\n",
       "50%     151.000000\n",
       "75%     200.000000\n",
       "max    1543.000000"
      ]
     },
     "execution_count": 11,
     "metadata": {},
     "output_type": "execute_result"
    }
   ],
   "source": [
    "dados_ts.describe()"
   ]
  },
  {
   "cell_type": "markdown",
   "metadata": {},
   "source": [
    "## Estacionarização da Série e Preparação dos Dados"
   ]
  },
  {
   "cell_type": "markdown",
   "metadata": {},
   "source": [
    "Mesma técnica usada na Parte 1."
   ]
  },
  {
   "cell_type": "code",
   "execution_count": 13,
   "metadata": {},
   "outputs": [],
   "source": [
    "# Diferenciação\n",
    "first_diff = dados_ts.acessos - dados_ts.acessos.shift(1)\n",
    "first_diff = first_diff.dropna()"
   ]
  },
  {
   "cell_type": "markdown",
   "metadata": {},
   "source": [
    "O Prophet impõe a condição estrita de que as colunas de entrada **devem** ser nomeadas **ds** e **y**."
   ]
  },
  {
   "cell_type": "code",
   "execution_count": 14,
   "metadata": {},
   "outputs": [],
   "source": [
    "# Ajusta os nomes das colunas conforme requerido pelo Prophet\n",
    "first_diff = pd.DataFrame(data = {'ds': first_diff.index, 'y': first_diff.values})"
   ]
  },
  {
   "cell_type": "code",
   "execution_count": 15,
   "metadata": {},
   "outputs": [],
   "source": [
    "# Data limite\n",
    "cutoff_date = '2023-01-01'"
   ]
  },
  {
   "cell_type": "code",
   "execution_count": 16,
   "metadata": {},
   "outputs": [],
   "source": [
    "# Prepara datasets de treino e teste\n",
    "amostra_treino = first_diff.loc[first_diff.ds < cutoff_date]\n",
    "amostra_teste = first_diff.loc[first_diff.ds >= cutoff_date]"
   ]
  },
  {
   "cell_type": "code",
   "execution_count": 17,
   "metadata": {},
   "outputs": [
    {
     "data": {
      "text/html": [
       "<div>\n",
       "<style scoped>\n",
       "    .dataframe tbody tr th:only-of-type {\n",
       "        vertical-align: middle;\n",
       "    }\n",
       "\n",
       "    .dataframe tbody tr th {\n",
       "        vertical-align: top;\n",
       "    }\n",
       "\n",
       "    .dataframe thead th {\n",
       "        text-align: right;\n",
       "    }\n",
       "</style>\n",
       "<table border=\"1\" class=\"dataframe\">\n",
       "  <thead>\n",
       "    <tr style=\"text-align: right;\">\n",
       "      <th></th>\n",
       "      <th>ds</th>\n",
       "      <th>y</th>\n",
       "    </tr>\n",
       "  </thead>\n",
       "  <tbody>\n",
       "    <tr>\n",
       "      <th>0</th>\n",
       "      <td>2022-06-02</td>\n",
       "      <td>55.0</td>\n",
       "    </tr>\n",
       "    <tr>\n",
       "      <th>1</th>\n",
       "      <td>2022-06-03</td>\n",
       "      <td>60.0</td>\n",
       "    </tr>\n",
       "    <tr>\n",
       "      <th>2</th>\n",
       "      <td>2022-06-04</td>\n",
       "      <td>7.0</td>\n",
       "    </tr>\n",
       "    <tr>\n",
       "      <th>3</th>\n",
       "      <td>2022-06-05</td>\n",
       "      <td>-122.0</td>\n",
       "    </tr>\n",
       "    <tr>\n",
       "      <th>4</th>\n",
       "      <td>2022-06-06</td>\n",
       "      <td>-13.0</td>\n",
       "    </tr>\n",
       "  </tbody>\n",
       "</table>\n",
       "</div>"
      ],
      "text/plain": [
       "          ds      y\n",
       "0 2022-06-02   55.0\n",
       "1 2022-06-03   60.0\n",
       "2 2022-06-04    7.0\n",
       "3 2022-06-05 -122.0\n",
       "4 2022-06-06  -13.0"
      ]
     },
     "execution_count": 17,
     "metadata": {},
     "output_type": "execute_result"
    }
   ],
   "source": [
    "amostra_treino.head()"
   ]
  },
  {
   "cell_type": "code",
   "execution_count": 18,
   "metadata": {},
   "outputs": [
    {
     "data": {
      "text/html": [
       "<div>\n",
       "<style scoped>\n",
       "    .dataframe tbody tr th:only-of-type {\n",
       "        vertical-align: middle;\n",
       "    }\n",
       "\n",
       "    .dataframe tbody tr th {\n",
       "        vertical-align: top;\n",
       "    }\n",
       "\n",
       "    .dataframe thead th {\n",
       "        text-align: right;\n",
       "    }\n",
       "</style>\n",
       "<table border=\"1\" class=\"dataframe\">\n",
       "  <thead>\n",
       "    <tr style=\"text-align: right;\">\n",
       "      <th></th>\n",
       "      <th>ds</th>\n",
       "      <th>y</th>\n",
       "    </tr>\n",
       "  </thead>\n",
       "  <tbody>\n",
       "    <tr>\n",
       "      <th>213</th>\n",
       "      <td>2023-01-01</td>\n",
       "      <td>-1.0</td>\n",
       "    </tr>\n",
       "    <tr>\n",
       "      <th>214</th>\n",
       "      <td>2023-01-02</td>\n",
       "      <td>0.0</td>\n",
       "    </tr>\n",
       "    <tr>\n",
       "      <th>215</th>\n",
       "      <td>2023-01-03</td>\n",
       "      <td>14.0</td>\n",
       "    </tr>\n",
       "    <tr>\n",
       "      <th>216</th>\n",
       "      <td>2023-01-04</td>\n",
       "      <td>57.0</td>\n",
       "    </tr>\n",
       "    <tr>\n",
       "      <th>217</th>\n",
       "      <td>2023-01-05</td>\n",
       "      <td>-83.0</td>\n",
       "    </tr>\n",
       "  </tbody>\n",
       "</table>\n",
       "</div>"
      ],
      "text/plain": [
       "            ds     y\n",
       "213 2023-01-01  -1.0\n",
       "214 2023-01-02   0.0\n",
       "215 2023-01-03  14.0\n",
       "216 2023-01-04  57.0\n",
       "217 2023-01-05 -83.0"
      ]
     },
     "execution_count": 18,
     "metadata": {},
     "output_type": "execute_result"
    }
   ],
   "source": [
    "amostra_teste.head()"
   ]
  },
  {
   "cell_type": "markdown",
   "metadata": {},
   "source": [
    "## Modelo Facebook Prophet"
   ]
  },
  {
   "cell_type": "markdown",
   "metadata": {},
   "source": [
    "* O Facebook Prophet é uma biblioteca de código aberto projetada para fazer previsões de séries temporais univariadas. Neste estudo de caso, a variável que estamos tentando prever é o número de itens vendidos.\n",
    "* O Prophet encontra automaticamente os hiperparâmetros ideais para o modelo.\n",
    "* O Prophet decompõe a série temporal em tendência, sazonalidade e efeito de feriado."
   ]
  },
  {
   "cell_type": "markdown",
   "metadata": {},
   "source": [
    "**Como o Prophet Funciona:**\n",
    "\n",
    "A entrada para o modelo Prophet é sempre um dataframe com duas colunas:\n",
    "\n",
    "* ds - carimbo de data em um formato esperado pelos pandas.\n",
    "* y - valor numérico. Este é o valor que queremos prever\n"
   ]
  },
  {
   "cell_type": "markdown",
   "metadata": {},
   "source": [
    "O Prophet gera um modelo de regressão aditivo com quatro componentes principais:\n",
    "\n",
    "$$y(t) = g(t) + s(t) + h(t)$$"
   ]
  },
  {
   "cell_type": "markdown",
   "metadata": {},
   "source": [
    "Tendência $g(t)$\n",
    "\n",
    "* $g(t)$ é a função de tendência. Esta função modela a mudança não periódica no valor da série temporal."
   ]
  },
  {
   "cell_type": "markdown",
   "metadata": {},
   "source": [
    "Sazonalidade $s(t)$\n",
    "\n",
    "* $s(t)$ é a função de sazonalidade (sazonalidade semanal e anual). Esta função modela as mudanças periódicas."
   ]
  },
  {
   "cell_type": "markdown",
   "metadata": {},
   "source": [
    "Holiday $h(t)$\n",
    "\n",
    "* $h(t)$ é a função de feriados. Esta função modela os efeitos dos feriados que ocorrem em horários potencialmente irregulares durante um ou mais dias."
   ]
  },
  {
   "cell_type": "markdown",
   "metadata": {},
   "source": [
    "Previsão $y(t)$\n",
    "\n",
    "* $y(t)$ é exatamente a previsão do modelo."
   ]
  },
  {
   "cell_type": "code",
   "execution_count": 20,
   "metadata": {},
   "outputs": [],
   "source": [
    "# Cria o modelo\n",
    "modelo = Prophet()"
   ]
  },
  {
   "cell_type": "code",
   "execution_count": 21,
   "metadata": {},
   "outputs": [
    {
     "name": "stderr",
     "output_type": "stream",
     "text": [
      "INFO:prophet:Disabling yearly seasonality. Run prophet with yearly_seasonality=True to override this.\n",
      "INFO:prophet:Disabling daily seasonality. Run prophet with daily_seasonality=True to override this.\n",
      "C:\\Users\\mfran\\anaconda3\\lib\\site-packages\\prophet\\forecaster.py:896: FutureWarning: The frame.append method is deprecated and will be removed from pandas in a future version. Use pandas.concat instead.\n",
      "  components = components.append(new_comp)\n"
     ]
    },
    {
     "data": {
      "text/plain": [
       "<prophet.forecaster.Prophet at 0x1dff22654c0>"
      ]
     },
     "execution_count": 21,
     "metadata": {},
     "output_type": "execute_result"
    }
   ],
   "source": [
    "# Treina o modelo\n",
    "modelo.fit(amostra_treino)"
   ]
  },
  {
   "cell_type": "code",
   "execution_count": 22,
   "metadata": {},
   "outputs": [
    {
     "data": {
      "text/plain": [
       "(59, 2)"
      ]
     },
     "execution_count": 22,
     "metadata": {},
     "output_type": "execute_result"
    }
   ],
   "source": [
    "amostra_teste.shape"
   ]
  },
  {
   "cell_type": "code",
   "execution_count": 23,
   "metadata": {},
   "outputs": [],
   "source": [
    "# Prepara os dados de teste para as previsões\n",
    "futuro = modelo.make_future_dataframe(periods = amostra_teste.shape[0])"
   ]
  },
  {
   "cell_type": "code",
   "execution_count": 24,
   "metadata": {},
   "outputs": [
    {
     "name": "stderr",
     "output_type": "stream",
     "text": [
      "C:\\Users\\mfran\\anaconda3\\lib\\site-packages\\prophet\\forecaster.py:896: FutureWarning: The frame.append method is deprecated and will be removed from pandas in a future version. Use pandas.concat instead.\n",
      "  components = components.append(new_comp)\n",
      "C:\\Users\\mfran\\anaconda3\\lib\\site-packages\\prophet\\forecaster.py:896: FutureWarning: The frame.append method is deprecated and will be removed from pandas in a future version. Use pandas.concat instead.\n",
      "  components = components.append(new_comp)\n"
     ]
    }
   ],
   "source": [
    "# Previsões\n",
    "previsoes_do_profeta = modelo.predict(futuro)"
   ]
  },
  {
   "cell_type": "code",
   "execution_count": 25,
   "metadata": {},
   "outputs": [
    {
     "data": {
      "text/html": [
       "<div>\n",
       "<style scoped>\n",
       "    .dataframe tbody tr th:only-of-type {\n",
       "        vertical-align: middle;\n",
       "    }\n",
       "\n",
       "    .dataframe tbody tr th {\n",
       "        vertical-align: top;\n",
       "    }\n",
       "\n",
       "    .dataframe thead th {\n",
       "        text-align: right;\n",
       "    }\n",
       "</style>\n",
       "<table border=\"1\" class=\"dataframe\">\n",
       "  <thead>\n",
       "    <tr style=\"text-align: right;\">\n",
       "      <th></th>\n",
       "      <th>ds</th>\n",
       "      <th>trend</th>\n",
       "      <th>yhat_lower</th>\n",
       "      <th>yhat_upper</th>\n",
       "      <th>trend_lower</th>\n",
       "      <th>trend_upper</th>\n",
       "      <th>additive_terms</th>\n",
       "      <th>additive_terms_lower</th>\n",
       "      <th>additive_terms_upper</th>\n",
       "      <th>weekly</th>\n",
       "      <th>weekly_lower</th>\n",
       "      <th>weekly_upper</th>\n",
       "      <th>multiplicative_terms</th>\n",
       "      <th>multiplicative_terms_lower</th>\n",
       "      <th>multiplicative_terms_upper</th>\n",
       "      <th>yhat</th>\n",
       "    </tr>\n",
       "  </thead>\n",
       "  <tbody>\n",
       "    <tr>\n",
       "      <th>0</th>\n",
       "      <td>2022-06-02</td>\n",
       "      <td>2.151730</td>\n",
       "      <td>-182.822812</td>\n",
       "      <td>220.061178</td>\n",
       "      <td>2.151730</td>\n",
       "      <td>2.151730</td>\n",
       "      <td>5.059532</td>\n",
       "      <td>5.059532</td>\n",
       "      <td>5.059532</td>\n",
       "      <td>5.059532</td>\n",
       "      <td>5.059532</td>\n",
       "      <td>5.059532</td>\n",
       "      <td>0.0</td>\n",
       "      <td>0.0</td>\n",
       "      <td>0.0</td>\n",
       "      <td>7.211262</td>\n",
       "    </tr>\n",
       "    <tr>\n",
       "      <th>1</th>\n",
       "      <td>2022-06-03</td>\n",
       "      <td>2.131629</td>\n",
       "      <td>-187.983202</td>\n",
       "      <td>189.818683</td>\n",
       "      <td>2.131629</td>\n",
       "      <td>2.131629</td>\n",
       "      <td>1.673834</td>\n",
       "      <td>1.673834</td>\n",
       "      <td>1.673834</td>\n",
       "      <td>1.673834</td>\n",
       "      <td>1.673834</td>\n",
       "      <td>1.673834</td>\n",
       "      <td>0.0</td>\n",
       "      <td>0.0</td>\n",
       "      <td>0.0</td>\n",
       "      <td>3.805463</td>\n",
       "    </tr>\n",
       "    <tr>\n",
       "      <th>2</th>\n",
       "      <td>2022-06-04</td>\n",
       "      <td>2.111529</td>\n",
       "      <td>-181.864778</td>\n",
       "      <td>215.130358</td>\n",
       "      <td>2.111529</td>\n",
       "      <td>2.111529</td>\n",
       "      <td>21.889024</td>\n",
       "      <td>21.889024</td>\n",
       "      <td>21.889024</td>\n",
       "      <td>21.889024</td>\n",
       "      <td>21.889024</td>\n",
       "      <td>21.889024</td>\n",
       "      <td>0.0</td>\n",
       "      <td>0.0</td>\n",
       "      <td>0.0</td>\n",
       "      <td>24.000553</td>\n",
       "    </tr>\n",
       "    <tr>\n",
       "      <th>3</th>\n",
       "      <td>2022-06-05</td>\n",
       "      <td>2.091428</td>\n",
       "      <td>-223.435089</td>\n",
       "      <td>177.909002</td>\n",
       "      <td>2.091428</td>\n",
       "      <td>2.091428</td>\n",
       "      <td>-13.216653</td>\n",
       "      <td>-13.216653</td>\n",
       "      <td>-13.216653</td>\n",
       "      <td>-13.216653</td>\n",
       "      <td>-13.216653</td>\n",
       "      <td>-13.216653</td>\n",
       "      <td>0.0</td>\n",
       "      <td>0.0</td>\n",
       "      <td>0.0</td>\n",
       "      <td>-11.125225</td>\n",
       "    </tr>\n",
       "    <tr>\n",
       "      <th>4</th>\n",
       "      <td>2022-06-06</td>\n",
       "      <td>2.071328</td>\n",
       "      <td>-198.265718</td>\n",
       "      <td>183.108272</td>\n",
       "      <td>2.071328</td>\n",
       "      <td>2.071328</td>\n",
       "      <td>-12.688017</td>\n",
       "      <td>-12.688017</td>\n",
       "      <td>-12.688017</td>\n",
       "      <td>-12.688017</td>\n",
       "      <td>-12.688017</td>\n",
       "      <td>-12.688017</td>\n",
       "      <td>0.0</td>\n",
       "      <td>0.0</td>\n",
       "      <td>0.0</td>\n",
       "      <td>-10.616689</td>\n",
       "    </tr>\n",
       "  </tbody>\n",
       "</table>\n",
       "</div>"
      ],
      "text/plain": [
       "          ds     trend  yhat_lower  yhat_upper  trend_lower  trend_upper  \\\n",
       "0 2022-06-02  2.151730 -182.822812  220.061178     2.151730     2.151730   \n",
       "1 2022-06-03  2.131629 -187.983202  189.818683     2.131629     2.131629   \n",
       "2 2022-06-04  2.111529 -181.864778  215.130358     2.111529     2.111529   \n",
       "3 2022-06-05  2.091428 -223.435089  177.909002     2.091428     2.091428   \n",
       "4 2022-06-06  2.071328 -198.265718  183.108272     2.071328     2.071328   \n",
       "\n",
       "   additive_terms  additive_terms_lower  additive_terms_upper     weekly  \\\n",
       "0        5.059532              5.059532              5.059532   5.059532   \n",
       "1        1.673834              1.673834              1.673834   1.673834   \n",
       "2       21.889024             21.889024             21.889024  21.889024   \n",
       "3      -13.216653            -13.216653            -13.216653 -13.216653   \n",
       "4      -12.688017            -12.688017            -12.688017 -12.688017   \n",
       "\n",
       "   weekly_lower  weekly_upper  multiplicative_terms  \\\n",
       "0      5.059532      5.059532                   0.0   \n",
       "1      1.673834      1.673834                   0.0   \n",
       "2     21.889024     21.889024                   0.0   \n",
       "3    -13.216653    -13.216653                   0.0   \n",
       "4    -12.688017    -12.688017                   0.0   \n",
       "\n",
       "   multiplicative_terms_lower  multiplicative_terms_upper       yhat  \n",
       "0                         0.0                         0.0   7.211262  \n",
       "1                         0.0                         0.0   3.805463  \n",
       "2                         0.0                         0.0  24.000553  \n",
       "3                         0.0                         0.0 -11.125225  \n",
       "4                         0.0                         0.0 -10.616689  "
      ]
     },
     "execution_count": 25,
     "metadata": {},
     "output_type": "execute_result"
    }
   ],
   "source": [
    "previsoes_do_profeta.head()"
   ]
  },
  {
   "cell_type": "markdown",
   "metadata": {},
   "source": [
    "Prophet retorna um grande dataframe que consiste em muitas colunas. As colunas importantes são:\n",
    "\n",
    "* ds - datestamp\n",
    "* yhat - valor previsto\n",
    "* yhat_lower - limite inferior da previsão\n",
    "* yhat_upper - limite superior da previsão"
   ]
  },
  {
   "cell_type": "markdown",
   "metadata": {},
   "source": [
    "## Avaliação do Modelo"
   ]
  },
  {
   "cell_type": "markdown",
   "metadata": {},
   "source": [
    "Usaremos o Erro Absoluto Médio (MAE) e o Erro Quadrático Médio (MSE) para avaliar o modelo."
   ]
  },
  {
   "cell_type": "code",
   "execution_count": 26,
   "metadata": {},
   "outputs": [],
   "source": [
    "# Definimos a coluna ds como índice nas previsões\n",
    "previsoes_do_profeta = previsoes_do_profeta.set_index('ds')"
   ]
  },
  {
   "cell_type": "code",
   "execution_count": 27,
   "metadata": {},
   "outputs": [],
   "source": [
    "# Definimos a coluna ds como índice nos dados teste\n",
    "amostra_teste = amostra_teste.set_index('ds')"
   ]
  },
  {
   "cell_type": "code",
   "execution_count": 28,
   "metadata": {},
   "outputs": [],
   "source": [
    "# Extraímos as previsões que usaremos para avaliar o modelo\n",
    "previsoes = previsoes_do_profeta.yhat.loc[previsoes_do_profeta.index >= cutoff_date]"
   ]
  },
  {
   "cell_type": "code",
   "execution_count": 29,
   "metadata": {},
   "outputs": [
    {
     "name": "stdout",
     "output_type": "stream",
     "text": [
      "Prophet MAE =  52.846743506497404\n"
     ]
    }
   ],
   "source": [
    "print('Prophet MAE = ', mean_absolute_error(previsoes, amostra_teste))"
   ]
  },
  {
   "cell_type": "code",
   "execution_count": 30,
   "metadata": {},
   "outputs": [
    {
     "name": "stdout",
     "output_type": "stream",
     "text": [
      "Prophet MSE =  4836.390449775512\n"
     ]
    }
   ],
   "source": [
    "print('Prophet MSE = ', mean_squared_error(previsoes, amostra_teste))"
   ]
  },
  {
   "cell_type": "code",
   "execution_count": 31,
   "metadata": {},
   "outputs": [],
   "source": [
    "# Prepara os dados para o Plot\n",
    "amostra_teste.index = pd.to_datetime(amostra_teste.index)"
   ]
  },
  {
   "cell_type": "code",
   "execution_count": 32,
   "metadata": {},
   "outputs": [],
   "source": [
    "# Prepara os dados para o Plot\n",
    "previsoes.index = pd.to_datetime(previsoes.index)"
   ]
  },
  {
   "cell_type": "code",
   "execution_count": 33,
   "metadata": {},
   "outputs": [
    {
     "data": {
      "text/plain": [
       "Text(0.5, 1.0, 'Previsões Finais do Profeta')"
      ]
     },
     "execution_count": 33,
     "metadata": {},
     "output_type": "execute_result"
    },
    {
     "data": {
      "image/png": "[encoded data removed]",
      "text/plain": [
       "<Figure size 1200x600 with 1 Axes>"
      ]
     },
     "metadata": {},
     "output_type": "display_data"
    }
   ],
   "source": [
    "# Plot\n",
    "fig = plt.figure(figsize = (12,6))\n",
    "sales = plt.plot(amostra_teste[cutoff_date:], label = 'Valor Observado')\n",
    "forecast = plt.plot(previsoes, label = 'Valor Previsto')\n",
    "plt.legend(loc = 'best')\n",
    "plt.title(\"Previsões Finais do Profeta\")"
   ]
  },
  {
   "cell_type": "code",
   "execution_count": null,
   "metadata": {},
   "outputs": [],
   "source": []
  }
 ],
 "metadata": {
  "kernelspec": {
   "display_name": "Python 3 (ipykernel)",
   "language": "python",
   "name": "python3"
  },
  "language_info": {
   "codemirror_mode": {
    "name": "ipython",
    "version": 3
   },
   "file_extension": ".py",
   "mimetype": "text/x-python",
   "name": "python",
   "nbconvert_exporter": "python",
   "pygments_lexer": "ipython3",
   "version": "3.9.13"
  }
 },
 "nbformat": 4,
 "nbformat_minor": 4
}
